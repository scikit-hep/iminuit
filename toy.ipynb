{
 "cells": [
  {
   "cell_type": "code",
   "execution_count": null,
   "metadata": {},
   "outputs": [],
   "source": [
    "def _smart_sampling(f, xmin, xmax, start=17, sub=3, atol=1e-3, rtol=np.inf):\n",
    "    from scipy.interpolate import interp1d\n",
    "\n",
    "    x = np.linspace(xmin, xmax, start)\n",
    "    y = {xi: f(xi) for xi in x}\n",
    "    x_intervals = [(x[i], x[i + 1]) for i in range(start - 1)]\n",
    "    while len(x_intervals):\n",
    "        if len(y) > 10000:\n",
    "            warnings.warn(\"Too many points\", RuntimeWarning)\n",
    "            break\n",
    "        xint = x_intervals.pop()\n",
    "        xsub = np.linspace(*xint, sub)\n",
    "        xnew = xsub[1:-1]\n",
    "        ynew = f(xnew)\n",
    "        # TODO replace with custom interpolation\n",
    "        yint = interp1d(xint, [y[xi] for xi in xint])(xnew)\n",
    "        for xi, yi in zip(xnew, ynew):\n",
    "            y[xi] = yi\n",
    "        dy = ynew - yint\n",
    "        cond = True\n",
    "        if np.isfinite(atol):\n",
    "            cond &= np.abs(dy) > atol\n",
    "        if np.isfinite(rtol):\n",
    "            cond &= np.abs(dy) > rtol * np.abs(ynew)\n",
    "        if np.any(cond):\n",
    "            for i in range(sub - 1):\n",
    "                x_intervals.append((xsub[i], xsub[i + 1]))\n",
    "    xy = list(y.items())\n",
    "    xy.sort()\n",
    "    return np.transpose(xy)\n"
   ]
  }
 ],
 "metadata": {
  "kernelspec": {
   "display_name": "Python 3.9.13 ('venv': venv)",
   "language": "python",
   "name": "python3"
  },
  "language_info": {
   "name": "python",
   "version": "3.9.13"
  },
  "orig_nbformat": 4,
  "vscode": {
   "interpreter": {
    "hash": "bdbf20ff2e92a3ae3002db8b02bd1dd1b287e934c884beb29a73dced9dbd0fa3"
   }
  }
 },
 "nbformat": 4,
 "nbformat_minor": 2
}
