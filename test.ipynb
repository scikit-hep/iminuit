{
 "cells": [
  {
   "cell_type": "code",
   "execution_count": null,
   "metadata": {},
   "outputs": [],
   "source": [
    "%config InlineBackend.figure_formats = ['svg']\n",
    "from iminuit import cost\n",
    "from iminuit import Minuit\n",
    "from numba_stats import norm, truncexpon\n",
    "import numpy as np\n",
    "\n",
    "rng = np.random.default_rng(1)\n",
    "\n",
    "s = rng.normal(0.5, 0.1, size=1000)\n",
    "b = rng.exponential(1, size=1000)\n",
    "b = b[b < 1]\n",
    "x = np.append(s, b)\n",
    "\n",
    "truth = len(s) / len(x), 0.5, 0.1, 1.0\n",
    "\n",
    "n, xe = np.histogram(x, bins=50)\n",
    "\n",
    "\n",
    "def model(x, f, mu, sigma, slope):\n",
    "    return f * norm.pdf(x, mu, sigma) + (1 - f) * truncexpon.pdf(x, 0, 1, 0, slope)\n",
    "\n",
    "\n",
    "c = cost.UnbinnedNLL(x, model)\n",
    "m = Minuit(c, *truth)\n",
    "m.limits[\"f\", \"mu\"] = (0, 1)\n",
    "m.limits[\"sigma\", \"slope\"] = (0, None)\n",
    "\n",
    "m.interactive()"
   ]
  }
 ],
 "metadata": {
  "kernelspec": {
   "display_name": ".venv",
   "language": "python",
   "name": "python3"
  },
  "language_info": {
   "codemirror_mode": {
    "name": "ipython",
    "version": 3
   },
   "file_extension": ".py",
   "mimetype": "text/x-python",
   "name": "python",
   "nbconvert_exporter": "python",
   "pygments_lexer": "ipython3",
   "version": "3.12.6"
  }
 },
 "nbformat": 4,
 "nbformat_minor": 2
}
