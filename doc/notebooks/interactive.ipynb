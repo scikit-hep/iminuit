{
 "cells": [
  {
   "cell_type": "code",
   "execution_count": null,
   "metadata": {},
   "outputs": [],
   "source": [
    "from iminuit import cost\n",
    "from iminuit import Minuit\n",
    "from numba_stats import t, bernstein, truncexpon\n",
    "import numpy as np\n",
    "from matplotlib import pyplot as plt"
   ]
  },
  {
   "cell_type": "code",
   "execution_count": null,
   "metadata": {},
   "outputs": [],
   "source": [
    "def sig1(xe, mu, sigma, nuinv):\n",
    "    nu = 1 / nuinv\n",
    "    return t.cdf(xe, nu, mu, sigma)\n",
    "\n",
    "def bkg1(xe, b1, b2, b3):\n",
    "    return bernstein.integral(xe, (b1, b2, b3), 0, 1)\n",
    "\n",
    "def model(xe, s, mu, sigma, nuinv, b1, b2, b3):\n",
    "    sn = s * sig1(xe, mu, sigma, nuinv)\n",
    "    bn = bkg1(xe, b1, b2, b3)\n",
    "    return sn + bn\n",
    "\n",
    "rng = np.random.default_rng(1)\n",
    "\n",
    "truth = 1000., 0.5, 0.1, 0.1, 1000., 3000., 2000.\n",
    "\n",
    "xe = np.linspace(0, 1, 100)\n",
    "sm = truth[0] * np.diff(sig1(xe, *truth[1:4]))\n",
    "bm = np.diff(bkg1(xe, *truth[4:]))\n",
    "n = rng.poisson(np.diff(model(xe, *truth)))\n",
    "\n",
    "c = cost.ExtendedBinnedNLL(n, xe, model)\n",
    "\n",
    "m = Minuit(c, *truth)\n",
    "m.limits[\"s\", \"sigma\", \"nuinv\", \"b1\", \"b2\", \"b3\"] = (0, None)\n",
    "m.limits[\"mu\"] = (0, 1)\n",
    "m.limits[\"nuinv\"] = (0, 5)\n",
    "\n",
    "m.interactive()"
   ]
  },
  {
   "cell_type": "code",
   "execution_count": null,
   "metadata": {},
   "outputs": [],
   "source": [
    "cx = 0.5 * (xe[1:] + xe[:-1])\n",
    "c.mask = np.abs(cx - 0.5) > 0.3\n",
    "m.interactive()"
   ]
  },
  {
   "cell_type": "code",
   "execution_count": null,
   "metadata": {},
   "outputs": [],
   "source": [
    "def sig2(xe, mu, sigma, nuinv):\n",
    "    nu = 1 / nuinv\n",
    "    a, b = t.cdf((0, 1), nu, mu, sigma)\n",
    "    return (t.cdf(xe, nu, mu, sigma) - a) / (b - a)\n",
    "\n",
    "def bkg2(xe, slope):\n",
    "    return truncexpon.cdf(xe, 0, 1, 0, slope)\n",
    "\n",
    "def model(xe, f, mu, sigma, nuinv, slope):\n",
    "    sn = f * sig2(xe, mu, sigma, nuinv)\n",
    "    bn = (1 - f) * bkg2(xe, slope)\n",
    "    return sn + bn\n",
    "\n",
    "rng = np.random.default_rng(1)\n",
    "\n",
    "truth = 0.5, 0.5, 0.1, 0.1, 1\n",
    "\n",
    "xe = np.linspace(0, 1, 100)\n",
    "sm = truth[0] * np.diff(sig2(xe, *truth[1:4]))\n",
    "bm = (1 - truth[0]) * np.diff(bkg2(xe, *truth[4:]))\n",
    "n = rng.poisson(1000 * np.diff(model(xe, *truth)))\n",
    "\n",
    "c = cost.BinnedNLL(n, xe, model)\n",
    "\n",
    "m = Minuit(c, *truth)\n",
    "m.limits[\"sigma\", \"slope\"] = (1e-3, None)\n",
    "m.limits[\"mu\", \"f\"] = (0, 1)\n",
    "m.limits[\"nuinv\"] = (0, 0.2)\n",
    "\n",
    "m.interactive()"
   ]
  },
  {
   "cell_type": "code",
   "execution_count": null,
   "metadata": {},
   "outputs": [],
   "source": [
    "cx = 0.5 * (xe[1:] + xe[:-1])\n",
    "c.mask = np.abs(cx - 0.5) > 0.3\n",
    "m.interactive()"
   ]
  },
  {
   "cell_type": "code",
   "execution_count": null,
   "metadata": {},
   "outputs": [],
   "source": [
    "c = cost.BarlowBeestonLite(n, xe, (10000 * bm, 1000 * sm))\n",
    "m = Minuit(c, 500, 500)\n",
    "m.interactive()"
   ]
  },
  {
   "cell_type": "code",
   "execution_count": null,
   "metadata": {},
   "outputs": [],
   "source": [
    "def model(x, a, b):\n",
    "    return a + b * x\n",
    "\n",
    "truth = (1., 2.)\n",
    "x = np.linspace(0, 1)\n",
    "ym = model(x, *truth)\n",
    "ye = 0.1\n",
    "y = rng.normal(ym, ye)\n",
    "\n",
    "c = cost.LeastSquares(x, y, ye, model)\n",
    "\n",
    "m = Minuit(c, *truth)\n",
    "m.interactive()"
   ]
  },
  {
   "cell_type": "code",
   "execution_count": null,
   "metadata": {},
   "outputs": [],
   "source": [
    "c.mask = (x > 0.6) | (x < 0.2)\n",
    "m = Minuit(c, *truth)\n",
    "m.interactive()"
   ]
  }
 ],
 "metadata": {
  "kernelspec": {
   "display_name": "Python 3.8.13 ('venv': venv)",
   "language": "python",
   "name": "python3"
  },
  "language_info": {
   "codemirror_mode": {
    "name": "ipython",
    "version": 3
   },
   "file_extension": ".py",
   "mimetype": "text/x-python",
   "name": "python",
   "nbconvert_exporter": "python",
   "pygments_lexer": "ipython3",
   "version": "3.8.13"
  },
  "orig_nbformat": 4,
  "vscode": {
   "interpreter": {
    "hash": "bdbf20ff2e92a3ae3002db8b02bd1dd1b287e934c884beb29a73dced9dbd0fa3"
   }
  }
 },
 "nbformat": 4,
 "nbformat_minor": 2
}
