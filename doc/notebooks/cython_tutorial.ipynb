{
 "cells": [
  {
   "cell_type": "markdown",
   "metadata": {},
   "source": [
    "# Using Cython\n",
    "\n",
    "We show how to use Cython to accelerate the computation of a cost function and how to avoid some pitfalls.\n",
    "\n",
    "If you do not care specifically about [Cython](https://cython.org) and just want to make your code faster, try [Numba](https://numba.pydata.org) to accelerate your cost function (see the corresponding tutorials for more details). Numba in particular is more powerful than Cython and you don't have to learn the awkward Cython dialect. Also note that Cython does not fully support the C++ language, it was designed for C. iminuit also works with PyPy.\n",
    "\n",
    "With that disclaimer out of the way, let's try to use iminuit with a Cython-compiled function. We will only give a very brief glimps on how to write Cython code, please search the web for a proper Cython tutorial.\n"
   ]
  },
  {
   "cell_type": "code",
   "execution_count": null,
   "metadata": {},
   "outputs": [],
   "source": [
    "# setup of the notebook\n",
    "%load_ext Cython\n",
    "from iminuit import Minuit, describe\n",
    "from iminuit.util import make_func_code\n",
    "import numpy as np\n",
    "import traceback"
   ]
  },
  {
   "cell_type": "markdown",
   "metadata": {},
   "source": [
    "The following cell is Cython code and will be compiled to machine code behind the scenes."
   ]
  },
  {
   "cell_type": "code",
   "execution_count": null,
   "metadata": {},
   "outputs": [],
   "source": [
    "%%cython\n",
    "\n",
    "def cython_func(double x, double y, double z):\n",
    "    return (x - 1.) ** 2 + (y - 2.) ** 2 + (z - 3.) ** 2 + 1."
   ]
  },
  {
   "cell_type": "markdown",
   "metadata": {},
   "source": [
    "Unfortunately, if we try to pass starting values to Minuit via keywords, we get a failure."
   ]
  },
  {
   "cell_type": "code",
   "execution_count": null,
   "metadata": {},
   "outputs": [],
   "source": [
    "try:\n",
    "    m = Minuit(cython_func, x=1, y=2, z=3)\n",
    "except:\n",
    "    traceback.print_exc()"
   ]
  },
  {
   "cell_type": "markdown",
   "metadata": {},
   "source": [
    "What happened? `Minuit` uses the `describe` tool which uses introspection to read the function signature, but this failed here. Without that, Minuit does not know how many parameters this function accepts and their names.\n",
    "\n",
    "Python built-in functions (like `min`) normally do not have a function signature. Functions from cython and swig also do not have one.\n",
    "\n",
    "There are a few ways to fix this.\n",
    "\n",
    "- One can pass parameter names explicitly to Minuit, then it works.\n",
    "- One can use positional arguments.\n",
    "- One can tell Cython to embed a signature."
   ]
  },
  {
   "cell_type": "code",
   "execution_count": null,
   "metadata": {},
   "outputs": [],
   "source": [
    "m = Minuit(cython_func, name=(\"x\", \"y\", \"z\"), x=0, y=0, z=0)\n",
    "m.errordef = Minuit.LEAST_SQUARES\n",
    "m.migrad()"
   ]
  },
  {
   "cell_type": "markdown",
   "metadata": {},
   "source": [
    "Alternatively, one can use positional arguments without specifying parameter names."
   ]
  },
  {
   "cell_type": "code",
   "execution_count": null,
   "metadata": {},
   "outputs": [],
   "source": [
    "m = Minuit(cython_func, 0, 0, 0)\n",
    "m.errordef = Minuit.LEAST_SQUARES\n",
    "m.migrad()"
   ]
  },
  {
   "cell_type": "markdown",
   "metadata": {},
   "source": [
    "A nicer solution is to ask Cython to add the missing function signature. This can be achieved with the `embedsignature(true)` decorator."
   ]
  },
  {
   "cell_type": "code",
   "execution_count": null,
   "metadata": {},
   "outputs": [],
   "source": [
    "%%cython\n",
    "cimport cython\n",
    "\n",
    "@cython.embedsignature(True)  # generate a signature that iminuit can extract\n",
    "def cython_f(double x, double y, double z):\n",
    "    return (x - 1.) ** 2 + (y - 2.) ** 2 + (z - 3.) ** 2 + 1."
   ]
  },
  {
   "cell_type": "markdown",
   "metadata": {},
   "source": [
    "Now it works."
   ]
  },
  {
   "cell_type": "code",
   "execution_count": null,
   "metadata": {},
   "outputs": [],
   "source": [
    "m = Minuit(cython_f, x=0, y=0, z=0)\n",
    "m.errordef = Minuit.LEAST_SQUARES\n",
    "m.migrad()"
   ]
  }
 ],
 "metadata": {
  "kernelspec": {
   "display_name": "Python 3 (ipykernel)",
   "language": "python",
   "name": "python3"
  },
  "language_info": {
   "codemirror_mode": {
    "name": "ipython",
    "version": 3
   },
   "file_extension": ".py",
   "mimetype": "text/x-python",
   "name": "python",
   "nbconvert_exporter": "python",
   "pygments_lexer": "ipython3",
   "version": "3.8.12"
  }
 },
 "nbformat": 4,
 "nbformat_minor": 4
}
