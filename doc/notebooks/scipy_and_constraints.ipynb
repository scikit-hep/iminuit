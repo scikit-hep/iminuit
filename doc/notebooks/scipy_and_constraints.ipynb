{
 "cells": [
  {
   "cell_type": "markdown",
   "id": "ffdfe095",
   "metadata": {},
   "source": [
    "# SciPy minimizers and constraints\n",
    "\n",
    "The `Minuit` class can call SciPy minimizers implemented in `scipy.optimize.minimize` as alternatives to the standard Migrad minimizer to minimize the cost function. The SciPy minimizers may perform better or worse on some problems. You can give them a try when you are not satisfied with Migrad.\n",
    "\n",
    "More importantly, the SciPy minimizers support additional features that Migrad lacks.\n",
    "\n",
    "* Migrad does not allow one to use an externally computed hessian matrix.\n",
    "* Migrad does not allow one to use additional constraints of the form $\\vec a \\leq f(\\vec x) \\leq \\vec b$ in the minimization, where $\\vec x$ is the parameter vector of length $m$, $f$ is an arbitrary function $\\mathcal{R}^m \\rightarrow \\mathcal{R}^k$ and $\\vec a, \\vec b$ are vector bounds with length $k$.\n",
    "\n",
    "SciPy comes with a variety of minimization algorithms and some of them support these features. The ability to use constraints is interesting for HEP applications. In particular, it allows us to ensure that a pdf as a function of the parameters is always positive. This can be ensured sometimes with suitable limits on the parameters, but not always.\n",
    "\n",
    "We demonstrate this on a common example of fit of an additive model with a signal and background pdf."
   ]
  },
  {
   "cell_type": "code",
   "execution_count": 1,
   "id": "unnecessary-vermont",
   "metadata": {},
   "outputs": [],
   "source": [
    "from iminuit import Minuit\n",
    "from iminuit.cost import ExtendedUnbinnedNLL\n",
    "import numpy as np\n",
    "from numba_stats import norm, bernstein\n",
    "import matplotlib.pyplot as plt\n",
    "from IPython.display import display\n",
    "import joblib"
   ]
  },
  {
   "cell_type": "markdown",
   "id": "2bac1095",
   "metadata": {},
   "source": [
    "The signal pdf is a Gaussian, the background is modelled with second degree Bernstein polynomials. We perform an extended maximum likelihood fit, where the full density model is given by the sum of the signal and background component."
   ]
  },
  {
   "cell_type": "code",
   "execution_count": 2,
   "id": "equivalent-minnesota",
   "metadata": {},
   "outputs": [],
   "source": [
    "xrange = (0, 1)\n",
    "\n",
    "\n",
    "def model(x, b0, b1, b2, sig, mu, sigma):\n",
    "    beta = [b0, b1, b2]\n",
    "    bint = np.diff(bernstein.integral(xrange, beta, *xrange))\n",
    "    sint = sig * np.diff(norm.cdf(xrange, mu, sigma))[0]\n",
    "    return bint + sint, bernstein.density(x, beta, *xrange) + sig * norm.pdf(x, mu, sigma)"
   ]
  },
  {
   "cell_type": "markdown",
   "id": "58a91a58",
   "metadata": {},
   "source": [
    "In searches for rare decays, it is common to fit models like this to small simulated samples that contain only background, to calculate the distribution of some test statistic (usually the likelihood ratio of S+B and B-only hypotheses). Here, for simplicity, we use the signal amplitude itself as the test statistic.\n",
    "\n",
    "We run one such fit. The mean and width of the Gaussian are fixed, only the signal amplitude and the background parameters are varied."
   ]
  },
  {
   "cell_type": "code",
   "execution_count": 3,
   "id": "abroad-census",
   "metadata": {},
   "outputs": [
    {
     "data": {
      "text/html": [
       "<table>\n",
       "    <tr>\n",
       "        <th colspan=\"5\" style=\"text-align:center\" title=\"Minimizer\"> Migrad </th>\n",
       "    </tr>\n",
       "    <tr>\n",
       "        <td colspan=\"2\" style=\"text-align:left\" title=\"Minimum value of function\"> FCN = -181.3 </td>\n",
       "        <td colspan=\"3\" style=\"text-align:center\" title=\"Total number of function and (optional) gradient evaluations\"> Nfcn = 96 </td>\n",
       "    </tr>\n",
       "    <tr>\n",
       "        <td colspan=\"2\" style=\"text-align:left\" title=\"Estimated distance to minimum and goal\"> EDM = 1.83e-06 (Goal: 0.0002) </td>\n",
       "        <td colspan=\"3\" style=\"text-align:center\" title=\"Total run time of algorithms\">  </td>\n",
       "    </tr>\n",
       "    <tr>\n",
       "        <td colspan=\"2\" style=\"text-align:center;background-color:#92CCA6;color:black\"> Valid Minimum </td>\n",
       "        <td colspan=\"3\" style=\"text-align:center;background-color:#92CCA6;color:black\"> No Parameters at limit </td>\n",
       "    </tr>\n",
       "    <tr>\n",
       "        <td colspan=\"2\" style=\"text-align:center;background-color:#92CCA6;color:black\"> Below EDM threshold (goal x 10) </td>\n",
       "        <td colspan=\"3\" style=\"text-align:center;background-color:#92CCA6;color:black\"> Below call limit </td>\n",
       "    </tr>\n",
       "    <tr>\n",
       "        <td style=\"text-align:center;background-color:#92CCA6;color:black\"> Covariance </td>\n",
       "        <td style=\"text-align:center;background-color:#92CCA6;color:black\"> Hesse ok </td>\n",
       "        <td style=\"text-align:center;background-color:#92CCA6;color:black\" title=\"Is covariance matrix accurate?\"> Accurate </td>\n",
       "        <td style=\"text-align:center;background-color:#92CCA6;color:black\" title=\"Is covariance matrix positive definite?\"> Pos. def. </td>\n",
       "        <td style=\"text-align:center;background-color:#92CCA6;color:black\" title=\"Was positive definiteness enforced by Minuit?\"> Not forced </td>\n",
       "    </tr>\n",
       "</table><table>\n",
       "    <tr>\n",
       "        <td></td>\n",
       "        <th title=\"Variable name\"> Name </th>\n",
       "        <th title=\"Value of parameter\"> Value </th>\n",
       "        <th title=\"Hesse error\"> Hesse Error </th>\n",
       "        <th title=\"Minos lower error\"> Minos Error- </th>\n",
       "        <th title=\"Minos upper error\"> Minos Error+ </th>\n",
       "        <th title=\"Lower limit of the parameter\"> Limit- </th>\n",
       "        <th title=\"Upper limit of the parameter\"> Limit+ </th>\n",
       "        <th title=\"Is the parameter fixed in the fit\"> Fixed </th>\n",
       "    </tr>\n",
       "    <tr>\n",
       "        <th> 0 </th>\n",
       "        <td> b0 </td>\n",
       "        <td> 16 </td>\n",
       "        <td> 17 </td>\n",
       "        <td>  </td>\n",
       "        <td>  </td>\n",
       "        <td> 0 </td>\n",
       "        <td>  </td>\n",
       "        <td>  </td>\n",
       "    </tr>\n",
       "    <tr>\n",
       "        <th> 1 </th>\n",
       "        <td> b1 </td>\n",
       "        <td> 85 </td>\n",
       "        <td> 35 </td>\n",
       "        <td>  </td>\n",
       "        <td>  </td>\n",
       "        <td> 0 </td>\n",
       "        <td>  </td>\n",
       "        <td>  </td>\n",
       "    </tr>\n",
       "    <tr>\n",
       "        <th> 2 </th>\n",
       "        <td> b2 </td>\n",
       "        <td> 16 </td>\n",
       "        <td> 16 </td>\n",
       "        <td>  </td>\n",
       "        <td>  </td>\n",
       "        <td> 0 </td>\n",
       "        <td>  </td>\n",
       "        <td>  </td>\n",
       "    </tr>\n",
       "    <tr>\n",
       "        <th> 3 </th>\n",
       "        <td> sig </td>\n",
       "        <td> -4.0 </td>\n",
       "        <td> 2.7 </td>\n",
       "        <td>  </td>\n",
       "        <td>  </td>\n",
       "        <td>  </td>\n",
       "        <td>  </td>\n",
       "        <td>  </td>\n",
       "    </tr>\n",
       "    <tr>\n",
       "        <th> 4 </th>\n",
       "        <td> mu </td>\n",
       "        <td> 0.500 </td>\n",
       "        <td> 0.005 </td>\n",
       "        <td>  </td>\n",
       "        <td>  </td>\n",
       "        <td>  </td>\n",
       "        <td>  </td>\n",
       "        <td> yes </td>\n",
       "    </tr>\n",
       "    <tr>\n",
       "        <th> 5 </th>\n",
       "        <td> sigma </td>\n",
       "        <td> 50.0e-3 </td>\n",
       "        <td> 0.5e-3 </td>\n",
       "        <td>  </td>\n",
       "        <td>  </td>\n",
       "        <td>  </td>\n",
       "        <td>  </td>\n",
       "        <td> yes </td>\n",
       "    </tr>\n",
       "</table><table>\n",
       "    <tr>\n",
       "        <td></td>\n",
       "        <th> b0 </th>\n",
       "        <th> b1 </th>\n",
       "        <th> b2 </th>\n",
       "        <th> sig </th>\n",
       "        <th> mu </th>\n",
       "        <th> sigma </th>\n",
       "    </tr>\n",
       "    <tr>\n",
       "        <th> b0 </th>\n",
       "        <td> 306 </td>\n",
       "        <td style=\"background-color:rgb(162,162,250);color:black\"> -412 <strong>(-0.676)</strong> </td>\n",
       "        <td style=\"background-color:rgb(250,192,192);color:black\"> 110 <strong>(0.387)</strong> </td>\n",
       "        <td style=\"background-color:rgb(250,202,202);color:black\"> 15.1 <strong>(0.319)</strong> </td>\n",
       "        <td style=\"background-color:rgb(250,250,250);color:black\"> 0 </td>\n",
       "        <td style=\"background-color:rgb(250,250,250);color:black\"> 0 </td>\n",
       "    </tr>\n",
       "    <tr>\n",
       "        <th> b1 </th>\n",
       "        <td style=\"background-color:rgb(162,162,250);color:black\"> -412 <strong>(-0.676)</strong> </td>\n",
       "        <td> 1.21e+03 </td>\n",
       "        <td style=\"background-color:rgb(166,166,250);color:black\"> -366 <strong>(-0.645)</strong> </td>\n",
       "        <td style=\"background-color:rgb(164,164,250);color:black\"> -62 <strong>(-0.659)</strong> </td>\n",
       "        <td style=\"background-color:rgb(250,250,250);color:black\"> 0 </td>\n",
       "        <td style=\"background-color:rgb(250,250,250);color:black\"> 0 </td>\n",
       "    </tr>\n",
       "    <tr>\n",
       "        <th> b2 </th>\n",
       "        <td style=\"background-color:rgb(250,192,192);color:black\"> 110 <strong>(0.387)</strong> </td>\n",
       "        <td style=\"background-color:rgb(166,166,250);color:black\"> -366 <strong>(-0.645)</strong> </td>\n",
       "        <td> 266 </td>\n",
       "        <td style=\"background-color:rgb(250,204,204);color:black\"> 13.4 <strong>(0.305)</strong> </td>\n",
       "        <td style=\"background-color:rgb(250,250,250);color:black\"> 0 </td>\n",
       "        <td style=\"background-color:rgb(250,250,250);color:black\"> 0 </td>\n",
       "    </tr>\n",
       "    <tr>\n",
       "        <th> sig </th>\n",
       "        <td style=\"background-color:rgb(250,202,202);color:black\"> 15.1 <strong>(0.319)</strong> </td>\n",
       "        <td style=\"background-color:rgb(164,164,250);color:black\"> -62 <strong>(-0.659)</strong> </td>\n",
       "        <td style=\"background-color:rgb(250,204,204);color:black\"> 13.4 <strong>(0.305)</strong> </td>\n",
       "        <td> 7.28 </td>\n",
       "        <td style=\"background-color:rgb(250,250,250);color:black\"> 0 </td>\n",
       "        <td style=\"background-color:rgb(250,250,250);color:black\"> 0 </td>\n",
       "    </tr>\n",
       "    <tr>\n",
       "        <th> mu </th>\n",
       "        <td style=\"background-color:rgb(250,250,250);color:black\"> 0 </td>\n",
       "        <td style=\"background-color:rgb(250,250,250);color:black\"> 0 </td>\n",
       "        <td style=\"background-color:rgb(250,250,250);color:black\"> 0 </td>\n",
       "        <td style=\"background-color:rgb(250,250,250);color:black\"> 0 </td>\n",
       "        <td> 0 </td>\n",
       "        <td style=\"background-color:rgb(250,250,250);color:black\"> 0 </td>\n",
       "    </tr>\n",
       "    <tr>\n",
       "        <th> sigma </th>\n",
       "        <td style=\"background-color:rgb(250,250,250);color:black\"> 0 </td>\n",
       "        <td style=\"background-color:rgb(250,250,250);color:black\"> 0 </td>\n",
       "        <td style=\"background-color:rgb(250,250,250);color:black\"> 0 </td>\n",
       "        <td style=\"background-color:rgb(250,250,250);color:black\"> 0 </td>\n",
       "        <td style=\"background-color:rgb(250,250,250);color:black\"> 0 </td>\n",
       "        <td> 0 </td>\n",
       "    </tr>\n",
       "</table>"
      ],
      "text/plain": [
       "┌─────────────────────────────────────────────────────────────────────────┐\n",
       "│                                Migrad                                   │\n",
       "├──────────────────────────────────┬──────────────────────────────────────┤\n",
       "│ FCN = -181.3                     │              Nfcn = 96               │\n",
       "│ EDM = 1.83e-06 (Goal: 0.0002)    │                                      │\n",
       "├──────────────────────────────────┼──────────────────────────────────────┤\n",
       "│          Valid Minimum           │        No Parameters at limit        │\n",
       "├──────────────────────────────────┼──────────────────────────────────────┤\n",
       "│ Below EDM threshold (goal x 10)  │           Below call limit           │\n",
       "├───────────────┬──────────────────┼───────────┬─────────────┬────────────┤\n",
       "│  Covariance   │     Hesse ok     │ Accurate  │  Pos. def.  │ Not forced │\n",
       "└───────────────┴──────────────────┴───────────┴─────────────┴────────────┘\n",
       "┌───┬───────┬───────────┬───────────┬────────────┬────────────┬─────────┬─────────┬───────┐\n",
       "│   │ Name  │   Value   │ Hesse Err │ Minos Err- │ Minos Err+ │ Limit-  │ Limit+  │ Fixed │\n",
       "├───┼───────┼───────────┼───────────┼────────────┼────────────┼─────────┼─────────┼───────┤\n",
       "│ 0 │ b0    │    16     │    17     │            │            │    0    │         │       │\n",
       "│ 1 │ b1    │    85     │    35     │            │            │    0    │         │       │\n",
       "│ 2 │ b2    │    16     │    16     │            │            │    0    │         │       │\n",
       "│ 3 │ sig   │   -4.0    │    2.7    │            │            │         │         │       │\n",
       "│ 4 │ mu    │   0.500   │   0.005   │            │            │         │         │  yes  │\n",
       "│ 5 │ sigma │  50.0e-3  │  0.5e-3   │            │            │         │         │  yes  │\n",
       "└───┴───────┴───────────┴───────────┴────────────┴────────────┴─────────┴─────────┴───────┘\n",
       "┌───────┬───────────────────────────────────────────────────────┐\n",
       "│       │       b0       b1       b2      sig       mu    sigma │\n",
       "├───────┼───────────────────────────────────────────────────────┤\n",
       "│    b0 │      306     -412      110     15.1        0        0 │\n",
       "│    b1 │     -412 1.21e+03     -366      -62        0        0 │\n",
       "│    b2 │      110     -366      266     13.4        0        0 │\n",
       "│   sig │     15.1      -62     13.4     7.28        0        0 │\n",
       "│    mu │        0        0        0        0        0        0 │\n",
       "│ sigma │        0        0        0        0        0        0 │\n",
       "└───────┴───────────────────────────────────────────────────────┘"
      ]
     },
     "metadata": {},
     "output_type": "display_data"
    },
    {
     "data": {
      "image/png": "[encoded data removed]",
      "text/plain": [
       "<Figure size 640x480 with 1 Axes>"
      ]
     },
     "metadata": {},
     "output_type": "display_data"
    }
   ],
   "source": [
    "rng = np.random.default_rng(2)\n",
    "x = rng.uniform(0, 1, size=35)\n",
    "\n",
    "cost = ExtendedUnbinnedNLL(x, model)\n",
    "n = len(x)\n",
    "m = Minuit(cost, b0=n, b1=n, b2=n, sig=0, mu=0.5, sigma=0.05)\n",
    "m.print_level = 0\n",
    "m.limits[\"b0\", \"b1\", \"b2\"] = (0, None)\n",
    "m.fixed[\"mu\", \"sigma\"] = True\n",
    "display(m.migrad())\n",
    "\n",
    "plt.hist(x, bins=50, density=True)\n",
    "xm = np.linspace(0, 1)\n",
    "yint, ym = model(xm, *m.values)\n",
    "plt.plot(xm, ym / yint);"
   ]
  },
  {
   "cell_type": "markdown",
   "id": "c1fac22f",
   "metadata": {},
   "source": [
    "In this example, the signal amplitude came out negative. This happens if the background has an underfluctuation where the signal is expected. This is not an issue if the sum of signal and background density is still positive everywhere where we evaluate it. As long as the total density is positive, individual components are allowed to be negative.\n",
    "\n",
    "There are, however, no principle restrictions in this example that prevent the sum of signal and background from becoming negative for some toy data sets. When that happens, the fit will fail, since the total density cannot mathematically become negative.\n",
    "\n",
    "If this happens anyway, the fit will fail since taking logarithm of a negative number will cause havoc."
   ]
  },
  {
   "cell_type": "markdown",
   "id": "4ecf9073",
   "metadata": {},
   "source": [
    "## Migrad fit on toys\n",
    "\n",
    "We apply the fit many times on randomly sampled background-only data to observe this."
   ]
  },
  {
   "cell_type": "code",
   "execution_count": 4,
   "id": "following-bruce",
   "metadata": {},
   "outputs": [
    {
     "name": "stdout",
     "output_type": "stream",
     "text": [
      "28 failed\n"
     ]
    }
   ],
   "source": [
    "@joblib.delayed\n",
    "def compute(itry):\n",
    "    rng = np.random.default_rng(itry)\n",
    "    x = rng.uniform(0, 1, size=35)\n",
    "    cost = ExtendedUnbinnedNLL(x, model)\n",
    "    m = Minuit(cost, b0=n, b1=n, b2=n, sig=0, mu=0.5, sigma=0.05)\n",
    "    m.limits[\"b0\", \"b1\", \"b2\"] = (0, None)\n",
    "    m.fixed[\"mu\", \"sigma\"] = True\n",
    "    m.migrad()\n",
    "    return m.values[\"sig\"] if m.valid else np.nan\n",
    "\n",
    "sigs_migrad = joblib.Parallel(-1)(compute(i) for i in range(200))\n",
    "\n",
    "print(np.sum(np.isnan(sigs_migrad)), \"failed\")"
   ]
  },
  {
   "cell_type": "code",
   "execution_count": 5,
   "id": "bd848895",
   "metadata": {},
   "outputs": [
    {
     "data": {
      "image/png": "[encoded data removed]",
      "text/plain": [
       "<Figure size 640x480 with 1 Axes>"
      ]
     },
     "metadata": {},
     "output_type": "display_data"
    }
   ],
   "source": [
    "nfailed = np.sum(np.isnan(sigs_migrad))\n",
    "plt.title(f\"{nfailed} fits failed ({nfailed / len(sigs_migrad) * 100:.0f} %)\")\n",
    "plt.hist(sigs_migrad, bins=10, range=(-10, 10))\n",
    "plt.xlabel(\"sig\");"
   ]
  },
  {
   "cell_type": "markdown",
   "id": "432b611e",
   "metadata": {},
   "source": [
    "The distribution of the signal amplitude looks fairly gaussian which is good, but the fit failed to converge in a few cases due to the problem just described. Simply discarding these cases is not acceptable, it would distort conclusions drawn from the distribution of the test statistic, which is commonly needed to set limits or to compute the p-value for an observed amplitude.\n",
    "\n",
    "We can repair this by placing a limit on the signal amplitude. This is a suitable solution, although it will bias the signal amplitude and change the shape of the distribution of the test statistic. \n",
    "\n",
    "An alternative is to perform a constrained minimization, which allows us to directly add a condition to the fit that the model density must be positive at each data point. We merely need to replace the call `m.migrad` with the call `m.scipy` and pass the (non-linear) constraint. An appropriate algorithm is automatically selected which performs a constrained minimization. The SciPy minimizers are fully integrated into Minuit, which means that Minuit computes an EDM value for the minimum and parameter uncertainties."
   ]
  },
  {
   "cell_type": "markdown",
   "id": "d364cb83",
   "metadata": {},
   "source": [
    "## SciPy constrained fit on toys \n",
    "\n",
    "We run SciPy with the constraint on the same simulated samples on which we ran Migrad before."
   ]
  },
  {
   "cell_type": "code",
   "execution_count": 6,
   "id": "young-ocean",
   "metadata": {},
   "outputs": [
    {
     "name": "stdout",
     "output_type": "stream",
     "text": [
      "0 failed\n"
     ]
    }
   ],
   "source": [
    "from scipy.optimize import NonlinearConstraint\n",
    "\n",
    "@joblib.delayed\n",
    "def compute(itry):\n",
    "    rng = np.random.default_rng(itry)\n",
    "    x = rng.uniform(0, 1, size=35)\n",
    "    cost = ExtendedUnbinnedNLL(x, model)\n",
    "    m = Minuit(cost, b0=n, b1=n, b2=n, sig=0, mu=0.5, sigma=0.05)\n",
    "    m.limits[\"b0\", \"b1\", \"b2\"] = (0, None)\n",
    "    m.fixed[\"mu\", \"sigma\"] = True\n",
    "    m.scipy(constraints=NonlinearConstraint(lambda *par: model(x, *par)[1], 0, np.inf))\n",
    "    return m.values[\"sig\"] if m.valid else np.nan\n",
    "\n",
    "sigs_constrained = joblib.Parallel(-1)(compute(i) for i in range(200))\n",
    "\n",
    "print(np.sum(np.isnan(sigs_constrained)), \"failed\")"
   ]
  },
  {
   "cell_type": "code",
   "execution_count": 7,
   "id": "0ce87a47",
   "metadata": {},
   "outputs": [
    {
     "data": {
      "image/png": "[encoded data removed]",
      "text/plain": [
       "<Figure size 640x480 with 1 Axes>"
      ]
     },
     "metadata": {},
     "output_type": "display_data"
    }
   ],
   "source": [
    "plt.title(f\"{np.sum(np.isnan(sigs_constrained))} constrained fits failed\")\n",
    "plt.hist(sigs_migrad, alpha=0.5, bins=10, range=(-10, 10), label=\"Migrad\")\n",
    "plt.hist(sigs_constrained, alpha=0.5, bins=10, range=(-10, 10), label=m.fmin.algorithm)\n",
    "plt.xlabel(\"sig\")\n",
    "plt.legend();"
   ]
  },
  {
   "cell_type": "markdown",
   "id": "881008cc",
   "metadata": {},
   "source": [
    "There are no failures this time. \n",
    "\n",
    "For sig > 0, the distributions are identical in this example, as theoretically expected. In practice, there can be small bin migration effects due to finite precision of numerical algorithms. These are not of concern.\n",
    "\n",
    "Important are the differences for sig < 0, where Migrad did not converge in a few cases and where therefore samples are missing. Those missing samples are recovered in the distribution produced by the constrained fit.\n",
    "\n",
    "This demonstrates that it is important to not discard failed fits, as this will in general distort the distribution of the test statistic."
   ]
  },
  {
   "cell_type": "markdown",
   "id": "f04e7c57",
   "metadata": {},
   "source": [
    "## Bonus: unconstrained SciPy fit\n",
    "\n",
    "The issues we describe here are of a principal mathematical nature. We should not expect that an unconstrained minimiser from SciPy does better than Migrad, but let's test this assumption. The minimiser that SciPy uses when only box constraints are used is the L-BFGS-B method which is roughly comparable to Migrad. Let us see how well this algorithm does on the same toy samples."
   ]
  },
  {
   "cell_type": "code",
   "execution_count": 8,
   "id": "a60a75f7",
   "metadata": {},
   "outputs": [
    {
     "name": "stdout",
     "output_type": "stream",
     "text": [
      "17 failed\n"
     ]
    }
   ],
   "source": [
    "@joblib.delayed\n",
    "def compute(itry):\n",
    "    rng = np.random.default_rng(itry)\n",
    "    x = rng.uniform(0, 1, size=35)\n",
    "    cost = ExtendedUnbinnedNLL(x, model)\n",
    "    m = Minuit(cost, b0=n, b1=n, b2=n, sig=0, mu=0.5, sigma=0.05)\n",
    "    m.limits[\"b0\", \"b1\", \"b2\"] = (0, None)\n",
    "    m.fixed[\"mu\", \"sigma\"] = True\n",
    "    m.scipy()\n",
    "    return m.values[\"sig\"] if m.valid else np.nan\n",
    "\n",
    "sigs_bfgs = joblib.Parallel(-1)(compute(i) for i in range(200))\n",
    "\n",
    "print(np.sum(np.isnan(sigs_bfgs)), \"failed\")"
   ]
  },
  {
   "cell_type": "code",
   "execution_count": 9,
   "id": "589bf6b1",
   "metadata": {},
   "outputs": [
    {
     "data": {
      "image/png": "[encoded data removed]",
      "text/plain": [
       "<Figure size 640x480 with 1 Axes>"
      ]
     },
     "metadata": {},
     "output_type": "display_data"
    }
   ],
   "source": [
    "plt.title(f\"{np.sum(np.isnan(sigs_bfgs))} BFGS fits failed\")\n",
    "plt.hist(sigs_migrad, alpha=0.5, bins=10, range=(-10, 10), label=\"Migrad\")\n",
    "plt.hist(sigs_constrained, alpha=0.5, bins=10, range=(-10, 10), label=\"SciPy[SLSQS]\")\n",
    "plt.hist(sigs_bfgs, bins=10, range=(-10, 10), fill=False, label=\"SciPy[L-BFGS-B]\")\n",
    "plt.xlabel(\"sig\")\n",
    "plt.legend();"
   ]
  },
  {
   "cell_type": "markdown",
   "id": "933fcadf",
   "metadata": {},
   "source": [
    "In this example, the BFGS method actually failed much less than Migrad, but it still fails in some cases, while the constrained fit did not fail at all."
   ]
  },
  {
   "cell_type": "markdown",
   "id": "0a2de7c9",
   "metadata": {},
   "source": [
    "## Speed comparison\n",
    "\n",
    "Since constrained fits are so useful, should you use them all the time? Probably not.\n",
    "\n",
    "Constrained fits are more computationally expensive. Satisfying extra constrains generally slows down convergence. Let's compare the speed of the three minimisers tested here. We set the strategy to 0, to avoid computing the Hessian matrix automatically, since we want to measure only the time used by the minimiser."
   ]
  },
  {
   "cell_type": "code",
   "execution_count": 10,
   "id": "84dfd255",
   "metadata": {},
   "outputs": [],
   "source": [
    "m.strategy = 0"
   ]
  },
  {
   "cell_type": "code",
   "execution_count": 11,
   "id": "6e6c7b2b",
   "metadata": {},
   "outputs": [
    {
     "name": "stdout",
     "output_type": "stream",
     "text": [
      "2.37 ms ± 555 µs per loop (mean ± std. dev. of 7 runs, 3 loops each)\n"
     ]
    }
   ],
   "source": [
    "%timeit -n3 m.reset(); m.migrad()"
   ]
  },
  {
   "cell_type": "code",
   "execution_count": 12,
   "id": "bafa5a40",
   "metadata": {},
   "outputs": [
    {
     "name": "stdout",
     "output_type": "stream",
     "text": [
      "4.67 ms ± 713 µs per loop (mean ± std. dev. of 7 runs, 3 loops each)\n"
     ]
    }
   ],
   "source": [
    "%timeit -n3 m.reset(); m.scipy()"
   ]
  },
  {
   "cell_type": "code",
   "execution_count": 13,
   "id": "05a2b917",
   "metadata": {},
   "outputs": [
    {
     "name": "stdout",
     "output_type": "stream",
     "text": [
      "11.4 ms ± 283 µs per loop (mean ± std. dev. of 7 runs, 3 loops each)\n"
     ]
    }
   ],
   "source": [
    "%timeit -n3 m.reset(); m.scipy(constraints=NonlinearConstraint(lambda *par: model(x, *par)[1], 0, np.inf))"
   ]
  },
  {
   "cell_type": "markdown",
   "id": "365a71bf",
   "metadata": {},
   "source": [
    "Migrad is the fastest, followed by the L-BFGS-B method. The constrained fit is much slower.\n",
    "\n",
    "The constrained fit is much slower, since it has to do more work. Why Migrad is faster than L-BFGS-B is not so obvious. There are some general reasons for that, but there may be cases where L-BFGS-B performs better.\n",
    "\n",
    "Migrad is comparably fast because of its smart stopping criterion. Migrad stops the fit as soon as the improvement of the fitted parameters become small compared to their uncertainties. Migrad was explicitly designed for statistical fits, where the cost function is a log-likelihood or least-squares function. Since it assumes that, it can stops the fit as soon as the parameter improvements become negligible compared to the parameter uncertainty, which is given by the inverse of its internal approximation of the Hessian matrix.\n",
    "\n",
    "The SciPy minimisers do not expect the cost function to be a log-likelihood or least-squares and thus cannot assume that the Hessian matrix has a special meaning. Instead they tend to optimise until they hit the limits of machine precision. This is the main reason why the L-BFGS-B method is slower. You can also see this in the benchmark section of the documentation.\n",
    "\n",
    "We can force Migrad to do something similar by setting the tolerance to a tiny value."
   ]
  },
  {
   "cell_type": "code",
   "execution_count": 14,
   "id": "70327e76",
   "metadata": {},
   "outputs": [],
   "source": [
    "m.tol = 1e-20"
   ]
  },
  {
   "cell_type": "code",
   "execution_count": 15,
   "id": "3cb6d132",
   "metadata": {},
   "outputs": [
    {
     "name": "stdout",
     "output_type": "stream",
     "text": [
      "2.89 ms ± 364 µs per loop (mean ± std. dev. of 7 runs, 3 loops each)\n"
     ]
    }
   ],
   "source": [
    "%timeit -n3 m.reset(); m.migrad()"
   ]
  },
  {
   "cell_type": "markdown",
   "id": "178aaef6",
   "metadata": {},
   "source": [
    "Now the runtime of Migrad is closer to L-BFGS-B, but it is still faster in this case."
   ]
  }
 ],
 "metadata": {
  "kernelspec": {
   "display_name": "Python 3.8.14 ('venv': venv)",
   "language": "python",
   "name": "python3"
  },
  "language_info": {
   "codemirror_mode": {
    "name": "ipython",
    "version": 3
   },
   "file_extension": ".py",
   "mimetype": "text/x-python",
   "name": "python",
   "nbconvert_exporter": "python",
   "pygments_lexer": "ipython3",
   "version": "3.10.8"
  },
  "vscode": {
   "interpreter": {
    "hash": "bdbf20ff2e92a3ae3002db8b02bd1dd1b287e934c884beb29a73dced9dbd0fa3"
   }
  }
 },
 "nbformat": 4,
 "nbformat_minor": 5
}
