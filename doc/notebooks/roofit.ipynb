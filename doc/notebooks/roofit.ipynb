{
 "cells": [
  {
   "attachments": {},
   "cell_type": "markdown",
   "metadata": {},
   "source": [
    "# Fitting RooFit-generated likelihoods\n",
    "\n",
    "In this tutorial, we show how to create a negative log-likelihood function with the [RooFit framework](https://root.cern/manual/roofit/) and minimize it with iminuit. \n",
    "\n",
    "RooFit is a powerful fitting framework developed by CERN's ROOT team.\n",
    "RooFit is very powerful and sophisticated, but there are a few reasons to use iminuit instead:\n",
    "\n",
    "- RooFit documention is extensive, but lacking in important places\n",
    "- RooFit interfaces are not Pythonic, they mimic the C++ interfaces (which are also dated)\n",
    "- Errors are difficult to understand and debug since RooFit is internally executing C++ code\n",
    "- You may experience segmentation faults when using RooFit from Python due to bugs in the ROOT Python layer (problems with handling life-times of dynamic C++ objects in Python correctly)\n",
    "\n",
    "For these reasons, you may consider to transition to iminuit and its cost functions for your project. As a first step, you want to convince yourself that iminuit gives you the same fitting result as you get from RooFit. "
   ]
  },
  {
   "cell_type": "code",
   "execution_count": null,
   "metadata": {},
   "outputs": [
    {
     "ename": "ModuleNotFoundError",
     "evalue": "No module named 'ROOT'",
     "output_type": "error",
     "traceback": [
      "\u001b[0;31m---------------------------------------------------------------------------\u001b[0m",
      "\u001b[0;31mModuleNotFoundError\u001b[0m                       Traceback (most recent call last)",
      "Cell \u001b[0;32mIn[1], line 2\u001b[0m\n\u001b[1;32m      1\u001b[0m \u001b[38;5;66;03m# ROOT is best installed via a conda virtual environment from conda-forge\u001b[39;00m\n\u001b[0;32m----> 2\u001b[0m \u001b[38;5;28;01mimport\u001b[39;00m \u001b[38;5;21;01mROOT\u001b[39;00m\n",
      "\u001b[0;31mModuleNotFoundError\u001b[0m: No module named 'ROOT'"
     ]
    }
   ],
   "source": [
    "# ROOT is best installed via a conda virtual environment from conda-forge\n",
    "import ROOT"
   ]
  },
  {
   "cell_type": "code",
   "execution_count": null,
   "metadata": {},
   "outputs": [],
   "source": [
    "# fix PRNG seed for RooFit random number generation\n",
    "ROOT.RooRandom.randomGenerator().SetSeed(1)"
   ]
  },
  {
   "attachments": {},
   "cell_type": "markdown",
   "metadata": {},
   "source": [
    "We generate a Gaussian with mean 1 and width 3 and draw 10000 data points from it. "
   ]
  },
  {
   "cell_type": "code",
   "execution_count": null,
   "metadata": {},
   "outputs": [],
   "source": [
    "x = ROOT.RooRealVar(\"x\", \"x\", -10, 10)\n",
    "mean = ROOT.RooRealVar(\"mean\", \"mean of gaussian\", 1, -10, 10)\n",
    "sigma = ROOT.RooRealVar(\"sigma\", \"width of gaussian\", 3, 0.1, 10)\n",
    "\n",
    "gauss = ROOT.RooGaussian(\"gauss\", \"gaussian PDF\", x, mean, sigma)\n",
    "\n",
    "data = gauss.generate({x}, 10000)"
   ]
  },
  {
   "attachments": {},
   "cell_type": "markdown",
   "metadata": {},
   "source": [
    "We now fit this Gaussian. We use the `createNLL` method and a simple wrapper function `evaluate`. Note that this simple wrapping function does not propagate the parameter names of the Gaussian to iminuit. A future version of iminuit will come with a builtin wrapper that will also propagate the names and limits."
   ]
  },
  {
   "cell_type": "code",
   "execution_count": null,
   "metadata": {},
   "outputs": [],
   "source": [
    "from iminuit import Minuit\n",
    "\n",
    "nll = gauss.createNLL(data)\n",
    "\n",
    "\n",
    "def evaluate(*args):\n",
    "    for par, arg in zip(nll.getVariables(), args):\n",
    "        par.setVal(arg)\n",
    "    # following RooMinimizerFcn.cxx\n",
    "    nll.setHideOffset(False)\n",
    "    r = nll.getVal()\n",
    "    nll.setHideOffset(True)\n",
    "    return r\n",
    "\n",
    "\n",
    "evaluate.errordef = Minuit.LIKELIHOOD\n",
    "\n",
    "m = Minuit(evaluate, *[p.getVal() for p in nll.getVariables()])\n",
    "m.migrad()"
   ]
  },
  {
   "attachments": {},
   "cell_type": "markdown",
   "metadata": {},
   "source": [
    "Let's compare this to fitting directly with the `fitTo` method."
   ]
  },
  {
   "cell_type": "code",
   "execution_count": null,
   "metadata": {},
   "outputs": [],
   "source": [
    "gauss.fitTo(data);"
   ]
  },
  {
   "attachments": {},
   "cell_type": "markdown",
   "metadata": {},
   "source": [
    "The results are in agreement, because the results of a fit cannot depend on the minimizer. Technically, RooFit uses a different minimizer than iminuit by default. Unless you change some options, RooFit uses the original MINUIT Fortran implementation translated to C, while iminuit uses the rewritten Minuit2 C++ library."
   ]
  },
  {
   "attachments": {},
   "cell_type": "markdown",
   "metadata": {},
   "source": [
    "Just doing the fitting with iminuit does not offer you a lot of advantages. Eventually, you want to switch completely. The equivalent of this exercise in pure Python is the following."
   ]
  },
  {
   "cell_type": "code",
   "execution_count": null,
   "metadata": {},
   "outputs": [],
   "source": [
    "from scipy.stats import truncnorm\n",
    "from iminuit.cost import UnbinnedNLL\n",
    "import numpy as np\n",
    "\n",
    "xrange = (-10.0, 10.0)\n",
    "\n",
    "rng = np.random.default_rng(1)\n",
    "x = rng.normal(1, 3, size=10000)\n",
    "x = x[(xrange[0] < x) & (x < xrange[1])]\n",
    "\n",
    "\n",
    "def model(x, mu, sigma):\n",
    "    zrange = np.subtract(xrange, mu) / sigma\n",
    "    return truncnorm.pdf(x, *zrange, mu, sigma)\n",
    "\n",
    "\n",
    "# better use numba_stats.truncnorm, which is simpler to use and faster\n",
    "#\n",
    "# from numba_stats import truncnorm\n",
    "#\n",
    "# def model(x, mu, sigma):\n",
    "#     return truncnorm.pdf(x, *xrange, mu, sigma)\n",
    "\n",
    "nll = UnbinnedNLL(x, model)\n",
    "m = Minuit(nll, 1, 3)\n",
    "m.migrad()"
   ]
  },
  {
   "attachments": {},
   "cell_type": "markdown",
   "metadata": {},
   "source": [
    "We do not get the exact same fitted values as before, since the data sample is different from the one generated by RooFit.\n",
    "\n",
    "To get the exact same result, we need to convert the variable `data` which has the type `RooDataSet` into a numpy array. The ROOT Python layer offers the method `to_numpy` for this purpose."
   ]
  },
  {
   "cell_type": "code",
   "execution_count": null,
   "metadata": {},
   "outputs": [],
   "source": [
    "x = data.to_numpy()[\"x\"]\n",
    "\n",
    "nll = UnbinnedNLL(x, model)\n",
    "m = Minuit(nll, 1, 3)\n",
    "m.migrad()"
   ]
  }
 ],
 "metadata": {
  "keep_output": true,
  "kernelspec": {
   "display_name": "venv",
   "language": "python",
   "name": "python3"
  },
  "language_info": {
   "codemirror_mode": {
    "name": "ipython",
    "version": 3
   },
   "file_extension": ".py",
   "mimetype": "text/x-python",
   "name": "python",
   "nbconvert_exporter": "python",
   "pygments_lexer": "ipython3",
   "version": "3.12.4"
  }
 },
 "nbformat": 4,
 "nbformat_minor": 2
}
