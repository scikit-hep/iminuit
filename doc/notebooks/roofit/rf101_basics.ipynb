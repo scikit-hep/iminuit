{
 "cells": [
  {
   "attachments": {},
   "cell_type": "markdown",
   "metadata": {},
   "source": [
    "# RooFit example 101: Basics\n",
    "\n",
    "This example translates the example [RF101](https://root.cern.ch/doc/master/rf101__basics_8py.html)."
   ]
  },
  {
   "cell_type": "code",
   "execution_count": 1,
   "metadata": {},
   "outputs": [
    {
     "ename": "TypeError",
     "evalue": "'module' object is not callable",
     "output_type": "error",
     "traceback": [
      "\u001b[0;31m---------------------------------------------------------------------------\u001b[0m",
      "\u001b[0;31mTypeError\u001b[0m                                 Traceback (most recent call last)",
      "Cell \u001b[0;32mIn[1], line 14\u001b[0m\n\u001b[1;32m     11\u001b[0m     \u001b[39mreturn\u001b[39;00m truncnorm\u001b[39m.\u001b[39mpdf(x, \u001b[39m*\u001b[39mxrange, mu, sigma)\n\u001b[1;32m     13\u001b[0m rng \u001b[39m=\u001b[39m np\u001b[39m.\u001b[39mrandom\u001b[39m.\u001b[39mdefault_rng(\u001b[39m1\u001b[39m)\n\u001b[0;32m---> 14\u001b[0m x \u001b[39m=\u001b[39m truncnorm(\u001b[39m*\u001b[39;49mxrange, \u001b[39m1\u001b[39;49m, \u001b[39m3\u001b[39;49m)\u001b[39m.\u001b[39mrvs(\u001b[39m10000\u001b[39m, random_state\u001b[39m=\u001b[39mrng)\n\u001b[1;32m     16\u001b[0m c \u001b[39m=\u001b[39m UnbinnedNLL(x, model)\n\u001b[1;32m     17\u001b[0m m \u001b[39m=\u001b[39m Minuit(c, \u001b[39m1\u001b[39m, \u001b[39m3\u001b[39m)\n",
      "\u001b[0;31mTypeError\u001b[0m: 'module' object is not callable"
     ]
    }
   ],
   "source": [
    "from iminuit import Minuit\n",
    "from iminuit.cost import UnbinnedNLL\n",
    "from numba_stats import truncnorm\n",
    "from matplotlib import pyplot as plt\n",
    "import numpy as np\n",
    "\n",
    "\n",
    "xrange = (-10, 10)\n",
    "\n",
    "def model(x, mu, sigma):\n",
    "    return truncnorm.pdf(x, *xrange, mu, sigma)\n",
    "\n",
    "rng = np.random.default_rng(1)\n",
    "x = rng.normal(1, 3, size=10000)\n",
    "x = x[(x > xrange[0]) & (x < xrange[1])]\n",
    "\n",
    "c = UnbinnedNLL(x, model)\n",
    "m = Minuit(c, 1, 3)\n",
    "m.limits[\"mu\"] = (-10, 10)\n",
    "m.limits[\"sigma\"] = (0.1, 10)\n",
    "m.migrad()\n",
    "\n",
    "fig, ax = plt.subplots(1, 2, figsize=(8, 4), \n",
    "                       sharex=True, constrained_layout=True)\n",
    "\n",
    "plt.sca(ax[0])\n",
    "xm = np.linspace(*xrange, 1000)\n",
    "plt.plot(xm, model(xm, 1, 1), label=\"sigma=1\")\n",
    "plt.plot(xm, model(xm, 1, 3), label=\"sigma=3\")\n",
    "plt.legend()\n",
    "plt.xlim(*xrange)\n",
    "plt.title(\"Gaussian pdf\")\n",
    "\n",
    "plt.sca(ax[1])\n",
    "m.visualize(bins=100)\n",
    "plt.xlim(*xrange)\n",
    "plt.title(\"Gaussian pdf with data\")"
   ]
  }
 ],
 "metadata": {
  "kernelspec": {
   "display_name": "py39",
   "language": "python",
   "name": "python3"
  },
  "language_info": {
   "codemirror_mode": {
    "name": "ipython",
    "version": 3
   },
   "file_extension": ".py",
   "mimetype": "text/x-python",
   "name": "python",
   "nbconvert_exporter": "python",
   "pygments_lexer": "ipython3",
   "version": "3.10.9"
  },
  "orig_nbformat": 4
 },
 "nbformat": 4,
 "nbformat_minor": 2
}
