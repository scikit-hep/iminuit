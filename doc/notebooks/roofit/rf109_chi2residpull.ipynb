{
 "cells": [
  {
   "attachments": {},
   "cell_type": "markdown",
   "metadata": {},
   "source": [
    "# 109: chi-square residuals and pulls\n",
    "\n",
    "This example translates the example [RF109](https://root.cern.ch/doc/master/rf109__chi2residpull_8py.html)."
   ]
  },
  {
   "cell_type": "code",
   "execution_count": null,
   "metadata": {},
   "outputs": [],
   "source": [
    "import numpy as np\n",
    "from numba_stats import norm\n",
    "from iminuit.cost import BinnedNLL\n",
    "import boost_histogram as bh\n",
    "from matplotlib import pyplot as plt\n",
    "\n",
    "# generate a sample of 1000 events with sigma=3\n",
    "rng = np.random.default_rng(1)\n",
    "x = rng.normal(scale=3, size=10000)\n",
    "\n",
    "# make histogram\n",
    "h = bh.Histogram(bh.axis.Regular(50, -10, 10))\n",
    "h.fill(x)\n",
    "cx = h.axes[0].centers\n",
    "xe = h.axes[0].edges\n",
    "\n",
    "# compute residuals and pulls for wrong Gaussian with sigma = 3.15\n",
    "pars = [\n",
    "    0,  # mu\n",
    "    3.15,  # sigma\n",
    "]\n",
    "\n",
    "# pulls can be computed from the cost functions in iminuit.cost \n",
    "cost = BinnedNLL(h.values(), xe, lambda x, mu, sigma: norm.cdf(x, mu, sigma))\n",
    "pulls = cost.pulls(pars)\n",
    "residuals = h.values() - cost.prediction(pars)\n",
    "\n",
    "# expected count per bin\n",
    "ym = cost.prediction(pars)\n",
    "\n",
    "# value returned by cost function is chi-square\n",
    "chi_square = cost(*pars)\n",
    "print(f\"chi^2/ndof = {chi_square / len(cx):.2f}\")\n",
    "\n",
    "fig, ax = plt.subplots(1, 3, figsize=(10, 3), sharex=True, constrained_layout=True)\n",
    "\n",
    "# plot data and gaussian model with sigma = 3.15\n",
    "plt.sca(ax[0])\n",
    "plt.errorbar(cx, h.values(), h.variances() ** 0.5, fmt=\"ok\")\n",
    "plt.stairs(ym, xe, fill=True)\n",
    "\n",
    "# residual distribution\n",
    "plt.sca(ax[1])\n",
    "plt.errorbar(cx, residuals, h.variances() ** 0.5, fmt=\"ok\")\n",
    "\n",
    "# pull distribution\n",
    "plt.sca(ax[2])\n",
    "plt.errorbar(cx, pulls, 1, fmt=\"ok\");"
   ]
  }
 ],
 "metadata": {
  "kernelspec": {
   "display_name": "py310",
   "language": "python",
   "name": "python3"
  },
  "language_info": {
   "codemirror_mode": {
    "name": "ipython",
    "version": 3
   },
   "file_extension": ".py",
   "mimetype": "text/x-python",
   "name": "python",
   "nbconvert_exporter": "python",
   "pygments_lexer": "ipython3",
   "version": "3.10.9"
  },
  "orig_nbformat": 4
 },
 "nbformat": 4,
 "nbformat_minor": 2
}
