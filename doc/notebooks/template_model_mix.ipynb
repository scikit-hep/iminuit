{
 "cells": [
  {
   "attachments": {},
   "cell_type": "markdown",
   "metadata": {},
   "source": [
    "# Fitting a mixture of templates and parametric models\n",
    "\n",
    "The class `iminuit.cost.Template` supports fitting a mixture of templates and parametric models. This is useful if some components have a simple shape like a Gaussian peak, while other components are complicated and need to be estimated from simulation or a control measurement.\n",
    "\n",
    "In this notebook, we demonstrate this usage. Our data consists of a Gaussian peak and exponential background. We fit the Gaussian peak with a parametric model and use a template to describe the exponential background."
   ]
  },
  {
   "cell_type": "code",
   "execution_count": 1,
   "metadata": {},
   "outputs": [],
   "source": [
    "from iminuit import Minuit\n",
    "from iminuit.cost import Template\n",
    "from numba_stats import norm, truncexpon\n",
    "import numpy as np\n",
    "from matplotlib import pyplot as plt"
   ]
  },
  {
   "attachments": {},
   "cell_type": "markdown",
   "metadata": {},
   "source": [
    "We generate the toy data."
   ]
  },
  {
   "cell_type": "code",
   "execution_count": 2,
   "metadata": {},
   "outputs": [
    {
     "data": {
      "image/png": "[encoded data removed]",
      "text/plain": [
       "<Figure size 640x480 with 1 Axes>"
      ]
     },
     "metadata": {},
     "output_type": "display_data"
    }
   ],
   "source": [
    "rng = np.random.default_rng(1)\n",
    "\n",
    "s = rng.normal(0.5, 0.05, size=1000)\n",
    "b = rng.exponential(1, size=1000)\n",
    "b = b[b < 1]\n",
    "\n",
    "ns, xe = np.histogram(s, bins=100, range=(0, 1))\n",
    "nb, _ = np.histogram(b, bins=xe)\n",
    "n = ns + nb\n",
    "\n",
    "plt.stairs(nb, xe, color=\"C1\", fill=True, label=\"background\")\n",
    "plt.stairs(n, xe, baseline=nb, color=\"C0\", fill=True, label=\"signal\")\n",
    "plt.legend();"
   ]
  },
  {
   "attachments": {},
   "cell_type": "markdown",
   "metadata": {},
   "source": [
    "We now model the peaking component parametrically with a Gaussian. A template fit is an extended binned fit, so we need to provide a scaled cumulative density function like for `iminuit.cost.ExtendedBinnedNLL`. To obtain a background template, we generate more samples from the exponential distribution and make a histogram."
   ]
  },
  {
   "cell_type": "code",
   "execution_count": 3,
   "metadata": {},
   "outputs": [
    {
     "data": {
      "text/html": [
       "<table>\n",
       "    <tr>\n",
       "        <th colspan=\"5\" style=\"text-align:center\" title=\"Minimizer\"> Migrad </th>\n",
       "    </tr>\n",
       "    <tr>\n",
       "        <td colspan=\"2\" style=\"text-align:left\" title=\"Minimum value of function\"> FCN = 87.01 (chi2/ndof = 0.9) </td>\n",
       "        <td colspan=\"3\" style=\"text-align:center\" title=\"Total number of function and (optional) gradient evaluations\"> Nfcn = 194 </td>\n",
       "    </tr>\n",
       "    <tr>\n",
       "        <td colspan=\"2\" style=\"text-align:left\" title=\"Estimated distance to minimum and goal\"> EDM = 4.93e-05 (Goal: 0.0002) </td>\n",
       "        <td colspan=\"3\" style=\"text-align:center\" title=\"Total run time of algorithms\">  </td>\n",
       "    </tr>\n",
       "    <tr>\n",
       "        <td colspan=\"2\" style=\"text-align:center;background-color:#92CCA6;color:black\"> Valid Minimum </td>\n",
       "        <td colspan=\"3\" style=\"text-align:center;background-color:#92CCA6;color:black\"> No Parameters at limit </td>\n",
       "    </tr>\n",
       "    <tr>\n",
       "        <td colspan=\"2\" style=\"text-align:center;background-color:#92CCA6;color:black\"> Below EDM threshold (goal x 10) </td>\n",
       "        <td colspan=\"3\" style=\"text-align:center;background-color:#92CCA6;color:black\"> Below call limit </td>\n",
       "    </tr>\n",
       "    <tr>\n",
       "        <td style=\"text-align:center;background-color:#92CCA6;color:black\"> Covariance </td>\n",
       "        <td style=\"text-align:center;background-color:#92CCA6;color:black\"> Hesse ok </td>\n",
       "        <td style=\"text-align:center;background-color:#92CCA6;color:black\" title=\"Is covariance matrix accurate?\"> Accurate </td>\n",
       "        <td style=\"text-align:center;background-color:#92CCA6;color:black\" title=\"Is covariance matrix positive definite?\"> Pos. def. </td>\n",
       "        <td style=\"text-align:center;background-color:#92CCA6;color:black\" title=\"Was positive definiteness enforced by Minuit?\"> Not forced </td>\n",
       "    </tr>\n",
       "</table><table>\n",
       "    <tr>\n",
       "        <td></td>\n",
       "        <th title=\"Variable name\"> Name </th>\n",
       "        <th title=\"Value of parameter\"> Value </th>\n",
       "        <th title=\"Hesse error\"> Hesse Error </th>\n",
       "        <th title=\"Minos lower error\"> Minos Error- </th>\n",
       "        <th title=\"Minos upper error\"> Minos Error+ </th>\n",
       "        <th title=\"Lower limit of the parameter\"> Limit- </th>\n",
       "        <th title=\"Upper limit of the parameter\"> Limit+ </th>\n",
       "        <th title=\"Is the parameter fixed in the fit\"> Fixed </th>\n",
       "    </tr>\n",
       "    <tr>\n",
       "        <th> 0 </th>\n",
       "        <td> x0_n </td>\n",
       "        <td> 990 </td>\n",
       "        <td> 40 </td>\n",
       "        <td>  </td>\n",
       "        <td>  </td>\n",
       "        <td> 0 </td>\n",
       "        <td>  </td>\n",
       "        <td>  </td>\n",
       "    </tr>\n",
       "    <tr>\n",
       "        <th> 1 </th>\n",
       "        <td> x0_mu </td>\n",
       "        <td> 0.4951 </td>\n",
       "        <td> 0.0020 </td>\n",
       "        <td>  </td>\n",
       "        <td>  </td>\n",
       "        <td> 0 </td>\n",
       "        <td> 1 </td>\n",
       "        <td>  </td>\n",
       "    </tr>\n",
       "    <tr>\n",
       "        <th> 2 </th>\n",
       "        <td> x0_sigma </td>\n",
       "        <td> 0.0484 </td>\n",
       "        <td> 0.0018 </td>\n",
       "        <td>  </td>\n",
       "        <td>  </td>\n",
       "        <td> 0 </td>\n",
       "        <td>  </td>\n",
       "        <td>  </td>\n",
       "    </tr>\n",
       "    <tr>\n",
       "        <th> 3 </th>\n",
       "        <td> x1 </td>\n",
       "        <td> 630 </td>\n",
       "        <td> 40 </td>\n",
       "        <td>  </td>\n",
       "        <td>  </td>\n",
       "        <td> 0 </td>\n",
       "        <td>  </td>\n",
       "        <td>  </td>\n",
       "    </tr>\n",
       "</table><table>\n",
       "    <tr>\n",
       "        <td></td>\n",
       "        <th> x0_n </th>\n",
       "        <th> x0_mu </th>\n",
       "        <th> x0_sigma </th>\n",
       "        <th> x1 </th>\n",
       "    </tr>\n",
       "    <tr>\n",
       "        <th> x0_n </th>\n",
       "        <td> 1.43e+03 </td>\n",
       "        <td style=\"background-color:rgb(250,249,249);color:black\"> 0.000324 <strong>(0.004)</strong> </td>\n",
       "        <td style=\"background-color:rgb(250,209,209);color:black\"> 0.0185 <strong>(0.274)</strong> </td>\n",
       "        <td style=\"background-color:rgb(213,213,250);color:black\"> -441 <strong>(-0.284)</strong> </td>\n",
       "    </tr>\n",
       "    <tr>\n",
       "        <th> x0_mu </th>\n",
       "        <td style=\"background-color:rgb(250,249,249);color:black\"> 0.000324 <strong>(0.004)</strong> </td>\n",
       "        <td> 3.87e-06 </td>\n",
       "        <td style=\"background-color:rgb(248,248,250);color:black\"> -5.26e-08 <strong>(-0.015)</strong> </td>\n",
       "        <td style=\"background-color:rgb(249,249,250);color:black\"> -0.000347 <strong>(-0.004)</strong> </td>\n",
       "    </tr>\n",
       "    <tr>\n",
       "        <th> x0_sigma </th>\n",
       "        <td style=\"background-color:rgb(250,209,209);color:black\"> 0.0185 <strong>(0.274)</strong> </td>\n",
       "        <td style=\"background-color:rgb(248,248,250);color:black\"> -5.26e-08 <strong>(-0.015)</strong> </td>\n",
       "        <td> 3.21e-06 </td>\n",
       "        <td style=\"background-color:rgb(217,217,250);color:black\"> -0.0185 <strong>(-0.251)</strong> </td>\n",
       "    </tr>\n",
       "    <tr>\n",
       "        <th> x1 </th>\n",
       "        <td style=\"background-color:rgb(213,213,250);color:black\"> -441 <strong>(-0.284)</strong> </td>\n",
       "        <td style=\"background-color:rgb(249,249,250);color:black\"> -0.000347 <strong>(-0.004)</strong> </td>\n",
       "        <td style=\"background-color:rgb(217,217,250);color:black\"> -0.0185 <strong>(-0.251)</strong> </td>\n",
       "        <td> 1.69e+03 </td>\n",
       "    </tr>\n",
       "</table>"
      ],
      "text/plain": [
       "┌─────────────────────────────────────────────────────────────────────────┐\n",
       "│                                Migrad                                   │\n",
       "├──────────────────────────────────┬──────────────────────────────────────┤\n",
       "│ FCN = 87.01 (chi2/ndof = 0.9)    │              Nfcn = 194              │\n",
       "│ EDM = 4.93e-05 (Goal: 0.0002)    │                                      │\n",
       "├──────────────────────────────────┼──────────────────────────────────────┤\n",
       "│          Valid Minimum           │        No Parameters at limit        │\n",
       "├──────────────────────────────────┼──────────────────────────────────────┤\n",
       "│ Below EDM threshold (goal x 10)  │           Below call limit           │\n",
       "├───────────────┬──────────────────┼───────────┬─────────────┬────────────┤\n",
       "│  Covariance   │     Hesse ok     │ Accurate  │  Pos. def.  │ Not forced │\n",
       "└───────────────┴──────────────────┴───────────┴─────────────┴────────────┘\n",
       "┌───┬──────────┬───────────┬───────────┬────────────┬────────────┬─────────┬─────────┬───────┐\n",
       "│   │ Name     │   Value   │ Hesse Err │ Minos Err- │ Minos Err+ │ Limit-  │ Limit+  │ Fixed │\n",
       "├───┼──────────┼───────────┼───────────┼────────────┼────────────┼─────────┼─────────┼───────┤\n",
       "│ 0 │ x0_n     │    990    │    40     │            │            │    0    │         │       │\n",
       "│ 1 │ x0_mu    │  0.4951   │  0.0020   │            │            │    0    │    1    │       │\n",
       "│ 2 │ x0_sigma │  0.0484   │  0.0018   │            │            │    0    │         │       │\n",
       "│ 3 │ x1       │    630    │    40     │            │            │    0    │         │       │\n",
       "└───┴──────────┴───────────┴───────────┴────────────┴────────────┴─────────┴─────────┴───────┘\n",
       "┌──────────┬─────────────────────────────────────────┐\n",
       "│          │      x0_n     x0_mu  x0_sigma        x1 │\n",
       "├──────────┼─────────────────────────────────────────┤\n",
       "│     x0_n │  1.43e+03  0.000324    0.0185      -441 │\n",
       "│    x0_mu │  0.000324  3.87e-06 -5.26e-08 -0.000347 │\n",
       "│ x0_sigma │    0.0185 -5.26e-08  3.21e-06   -0.0185 │\n",
       "│       x1 │      -441 -0.000347   -0.0185  1.69e+03 │\n",
       "└──────────┴─────────────────────────────────────────┘"
      ]
     },
     "execution_count": 3,
     "metadata": {},
     "output_type": "execute_result"
    }
   ],
   "source": [
    "# signal model: scaled cdf of a normal distribution\n",
    "def signal(xe, n, mu, sigma):\n",
    "    return n * norm.cdf(xe, mu, sigma)\n",
    "\n",
    "# background template: histogram of MC simulation\n",
    "rng = np.random.default_rng(2)\n",
    "b2 = rng.exponential(1, size=1000)\n",
    "b2 = b2[b2 < 1]\n",
    "template = np.histogram(b2, bins=xe)[0]\n",
    "\n",
    "# fit\n",
    "c = Template(n, xe, (signal, template))\n",
    "m = Minuit(c, x0_n=500, x0_mu=0.5, x0_sigma=0.05, x1=100)\n",
    "m.limits[\"x0_n\", \"x1\", \"x0_sigma\"] = (0, None)\n",
    "m.limits[\"x0_mu\"] = (0, 1)\n",
    "m.migrad()"
   ]
  },
  {
   "cell_type": "code",
   "execution_count": 4,
   "metadata": {},
   "outputs": [
    {
     "data": {
      "image/png": "[encoded data removed]",
      "text/plain": [
       "<Figure size 640x480 with 1 Axes>"
      ]
     },
     "metadata": {},
     "output_type": "display_data"
    }
   ],
   "source": [
    "m.visualize()"
   ]
  },
  {
   "attachments": {},
   "cell_type": "markdown",
   "metadata": {},
   "source": [
    "The fit succeeded and the statistical uncertainty in the template is propagated into the result. You can play with this demo and see what happens if you increase the statistic of the template.\n",
    "\n",
    "Note: the parameters of a parametric components are prefixed with `xn_` where `n` is the index of the component. This is to avoid name clashes between the parameter names of individual components and for clarity which parameter belongs to which component."
   ]
  }
 ],
 "metadata": {
  "kernelspec": {
   "display_name": "venv",
   "language": "python",
   "name": "python3"
  },
  "language_info": {
   "codemirror_mode": {
    "name": "ipython",
    "version": 3
   },
   "file_extension": ".py",
   "mimetype": "text/x-python",
   "name": "python",
   "nbconvert_exporter": "python",
   "pygments_lexer": "ipython3",
   "version": "3.9.16"
  },
  "orig_nbformat": 4,
  "vscode": {
   "interpreter": {
    "hash": "bdbf20ff2e92a3ae3002db8b02bd1dd1b287e934c884beb29a73dced9dbd0fa3"
   }
  }
 },
 "nbformat": 4,
 "nbformat_minor": 2
}
