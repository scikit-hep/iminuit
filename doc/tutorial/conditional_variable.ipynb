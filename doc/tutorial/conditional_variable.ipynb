{
 "cells": [
  {
   "cell_type": "markdown",
   "id": "naked-recruitment",
   "metadata": {},
   "source": [
    "# Fit PDF with conditional variable\n",
    "\n",
    "In this example, we show an unusual  fit where the total sample is not drawn form a single probability distribution, but each individual sample $x$ is drawn from a different distribution, whose parameters are determined by a conditional variable $y$.\n",
    "\n",
    "In our example, we are drawing samples $x$ from varying Gaussian distributions. The location of each Gaussian is a function of the conditional variable $y$, but all share the same width parameter $\\sigma$. We fit the shared parameter $\\sigma$, but also the parameters $a$ and $b$ which determine how the location of each gaussian depends on $y$, assuming a line function $\\mu = a + b y$.\n",
    "\n",
    "This tutorial reproduces a [corresponding one from RooFit](https://root.cern.ch/doc/master/rf303__conditional_8C.html)."
   ]
  },
  {
   "cell_type": "code",
   "execution_count": 1,
   "id": "technological-economy",
   "metadata": {},
   "outputs": [],
   "source": [
    "from iminuit.cost import UnbinnedNLL\n",
    "from iminuit import Minuit\n",
    "import numpy as np\n",
    "import numba as nb\n",
    "import boost_histogram as bh\n",
    "import matplotlib.pyplot as plt\n",
    "from scipy.stats import norm\n",
    "from numba_stats import norm as norm2"
   ]
  },
  {
   "cell_type": "code",
   "execution_count": 2,
   "id": "wicked-animal",
   "metadata": {},
   "outputs": [],
   "source": [
    "rng = np.random.default_rng(1)\n",
    "\n",
    "# conditional variable: each sample is paired with a random y parameter\n",
    "y = rng.normal(0, 10, size=10000)\n",
    "y = y[np.abs(y) < 10]  # truncate at 10\n",
    "\n",
    "# location of each gaussian is a function of y\n",
    "def mu(y, a, b):\n",
    "    return a + b * y\n",
    "\n",
    "# draw samples from Gaussians whose locations depend on y\n",
    "truth = {\"a\": 0, \"b\": 0.5, \"sigma\": 1.0}\n",
    "x = rng.normal(mu(y, truth[\"a\"], truth[\"b\"]), truth[\"sigma\"])"
   ]
  },
  {
   "cell_type": "markdown",
   "id": "removable-forward",
   "metadata": {},
   "source": [
    "The distribution in $x$ is more broad than the usual Gaussian because it is a convolution of many Gaussian distributions with varying means. We can visualise this by binning the data in $x$ and $y$."
   ]
  },
  {
   "cell_type": "code",
   "execution_count": 3,
   "id": "subjective-sleep",
   "metadata": {},
   "outputs": [
    {
     "data": {
      "image/png": "[encoded data removed]",
      "text/plain": [
       "<Figure size 432x288 with 1 Axes>"
      ]
     },
     "metadata": {
      "needs_background": "light"
     },
     "output_type": "display_data"
    }
   ],
   "source": [
    "ax_x = bh.axis.Regular(100, -10, 10)\n",
    "ax_y = bh.axis.Regular(5, -10, 10)\n",
    "h = bh.Histogram(ax_x, ax_y)\n",
    "h.fill(x, y)\n",
    "for i, (a, b) in enumerate(ax_y):\n",
    "    plt.stairs(h.values()[:,i], ax_x.edges, label=f\"[{a}, {b})\",\n",
    "               fill=True, alpha=0.2)\n",
    "h1 = h[:, sum]\n",
    "plt.stairs(h1.values(), ax_x.edges, color=\"k\", label=\"total\")\n",
    "plt.xlabel(\"x\")\n",
    "plt.ylabel(\"events\")\n",
    "plt.legend(title=\"y interval\", frameon=False, handlelength=1.2);"
   ]
  },
  {
   "cell_type": "markdown",
   "id": "copyrighted-plenty",
   "metadata": {},
   "source": [
    "## Fit with conditional variable\n",
    "\n",
    "The random distribution of $x$ depends on the value of $y$. We can exploit that information in the likelihood function to obtain a more accurate estimate of the parameters."
   ]
  },
  {
   "cell_type": "code",
   "execution_count": 4,
   "id": "aware-fantasy",
   "metadata": {},
   "outputs": [
    {
     "data": {
      "text/html": [
       "<table>\n",
       "    <tr>\n",
       "        <th colspan=\"5\" style=\"text-align:center\" title=\"Minimizer\"> Migrad </th>\n",
       "    </tr>\n",
       "    <tr>\n",
       "        <td colspan=\"2\" style=\"text-align:left\" title=\"Minimum value of function\"> FCN = 1.93e+04 </td>\n",
       "        <td colspan=\"3\" style=\"text-align:center\" title=\"No. of function evaluations in last call and total number\"> Nfcn = 130 </td>\n",
       "    </tr>\n",
       "    <tr>\n",
       "        <td colspan=\"2\" style=\"text-align:left\" title=\"Estimated distance to minimum and goal\"> EDM = 2.25e-06 (Goal: 0.0002) </td>\n",
       "        <td colspan=\"3\" style=\"text-align:center\" title=\"No. of gradient evaluations in last call and total number\">  </td>\n",
       "    </tr>\n",
       "    <tr>\n",
       "        <td colspan=\"2\" style=\"text-align:center;background-color:#92CCA6;color:black\"> Valid Minimum </td>\n",
       "        <td colspan=\"3\" style=\"text-align:center;background-color:#92CCA6;color:black\"> No Parameters at limit </td>\n",
       "    </tr>\n",
       "    <tr>\n",
       "        <td colspan=\"2\" style=\"text-align:center;background-color:#92CCA6;color:black\"> Below EDM threshold (goal x 10) </td>\n",
       "        <td colspan=\"3\" style=\"text-align:center;background-color:#92CCA6;color:black\"> Below call limit </td>\n",
       "    </tr>\n",
       "    <tr>\n",
       "        <td style=\"text-align:center;background-color:#92CCA6;color:black\"> Covariance </td>\n",
       "        <td style=\"text-align:center;background-color:#92CCA6;color:black\"> Hesse ok </td>\n",
       "        <td style=\"text-align:center;background-color:#92CCA6;color:black\" title=\"Is covariance matrix accurate?\"> Accurate </td>\n",
       "        <td style=\"text-align:center;background-color:#92CCA6;color:black\" title=\"Is covariance matrix positive definite?\"> Pos. def. </td>\n",
       "        <td style=\"text-align:center;background-color:#92CCA6;color:black\" title=\"Was positive definiteness enforced by Minuit?\"> Not forced </td>\n",
       "    </tr>\n",
       "</table><table>\n",
       "    <tr>\n",
       "        <td></td>\n",
       "        <th title=\"Variable name\"> Name </th>\n",
       "        <th title=\"Value of parameter\"> Value </th>\n",
       "        <th title=\"Hesse error\"> Hesse Error </th>\n",
       "        <th title=\"Minos lower error\"> Minos Error- </th>\n",
       "        <th title=\"Minos upper error\"> Minos Error+ </th>\n",
       "        <th title=\"Lower limit of the parameter\"> Limit- </th>\n",
       "        <th title=\"Upper limit of the parameter\"> Limit+ </th>\n",
       "        <th title=\"Is the parameter fixed in the fit\"> Fixed </th>\n",
       "    </tr>\n",
       "    <tr>\n",
       "        <th> 0 </th>\n",
       "        <td> a </td>\n",
       "        <td> -0.010 </td>\n",
       "        <td> 0.012 </td>\n",
       "        <td>  </td>\n",
       "        <td>  </td>\n",
       "        <td>  </td>\n",
       "        <td>  </td>\n",
       "        <td>  </td>\n",
       "    </tr>\n",
       "    <tr>\n",
       "        <th> 1 </th>\n",
       "        <td> b </td>\n",
       "        <td> 0.4993 </td>\n",
       "        <td> 0.0022 </td>\n",
       "        <td>  </td>\n",
       "        <td>  </td>\n",
       "        <td>  </td>\n",
       "        <td>  </td>\n",
       "        <td>  </td>\n",
       "    </tr>\n",
       "    <tr>\n",
       "        <th> 2 </th>\n",
       "        <td> sigma </td>\n",
       "        <td> 0.986 </td>\n",
       "        <td> 0.008 </td>\n",
       "        <td>  </td>\n",
       "        <td>  </td>\n",
       "        <td> 0 </td>\n",
       "        <td>  </td>\n",
       "        <td>  </td>\n",
       "    </tr>\n",
       "</table><table>\n",
       "    <tr>\n",
       "        <td></td>\n",
       "        <th> a </th>\n",
       "        <th> b </th>\n",
       "        <th> sigma </th>\n",
       "    </tr>\n",
       "    <tr>\n",
       "        <th> a </th>\n",
       "        <td> 0.000142 </td>\n",
       "        <td style=\"background-color:rgb(250,250,250);color:black\"> 1.31e-08 </td>\n",
       "        <td style=\"background-color:rgb(250,250,250);color:black\"> 5.73e-08 </td>\n",
       "    </tr>\n",
       "    <tr>\n",
       "        <th> b </th>\n",
       "        <td style=\"background-color:rgb(250,250,250);color:black\"> 1.31e-08 </td>\n",
       "        <td> 4.76e-06 </td>\n",
       "        <td style=\"background-color:rgb(250,250,250);color:black\"> 1.02e-08 </td>\n",
       "    </tr>\n",
       "    <tr>\n",
       "        <th> sigma </th>\n",
       "        <td style=\"background-color:rgb(250,250,250);color:black\"> 5.73e-08 </td>\n",
       "        <td style=\"background-color:rgb(250,250,250);color:black\"> 1.02e-08 </td>\n",
       "        <td> 7.08e-05 </td>\n",
       "    </tr>\n",
       "</table>"
      ],
      "text/plain": [
       "┌─────────────────────────────────────────────────────────────────────────┐\n",
       "│                                Migrad                                   │\n",
       "├──────────────────────────────────┬──────────────────────────────────────┤\n",
       "│ FCN = 1.93e+04                   │              Nfcn = 130              │\n",
       "│ EDM = 2.25e-06 (Goal: 0.0002)    │                                      │\n",
       "├──────────────────────────────────┼──────────────────────────────────────┤\n",
       "│          Valid Minimum           │        No Parameters at limit        │\n",
       "├──────────────────────────────────┼──────────────────────────────────────┤\n",
       "│ Below EDM threshold (goal x 10)  │           Below call limit           │\n",
       "├───────────────┬──────────────────┼───────────┬─────────────┬────────────┤\n",
       "│  Covariance   │     Hesse ok     │ Accurate  │  Pos. def.  │ Not forced │\n",
       "└───────────────┴──────────────────┴───────────┴─────────────┴────────────┘\n",
       "┌───┬───────┬───────────┬───────────┬────────────┬────────────┬─────────┬─────────┬───────┐\n",
       "│   │ Name  │   Value   │ Hesse Err │ Minos Err- │ Minos Err+ │ Limit-  │ Limit+  │ Fixed │\n",
       "├───┼───────┼───────────┼───────────┼────────────┼────────────┼─────────┼─────────┼───────┤\n",
       "│ 0 │ a     │  -0.010   │   0.012   │            │            │         │         │       │\n",
       "│ 1 │ b     │  0.4993   │  0.0022   │            │            │         │         │       │\n",
       "│ 2 │ sigma │   0.986   │   0.008   │            │            │    0    │         │       │\n",
       "└───┴───────┴───────────┴───────────┴────────────┴────────────┴─────────┴─────────┴───────┘\n",
       "┌───────┬────────────────────────────┐\n",
       "│       │        a        b    sigma │\n",
       "├───────┼────────────────────────────┤\n",
       "│     a │ 0.000142 1.31e-08 5.73e-08 │\n",
       "│     b │ 1.31e-08 4.76e-06 1.02e-08 │\n",
       "│ sigma │ 5.73e-08 1.02e-08 7.08e-05 │\n",
       "└───────┴────────────────────────────┘"
      ]
     },
     "execution_count": 4,
     "metadata": {},
     "output_type": "execute_result"
    }
   ],
   "source": [
    "def model(xy, a, b, sigma):\n",
    "    x, y = xy\n",
    "    mu = a + b * y\n",
    "    # using norm.pdf from numba_stats here is slow, because it is not vectorized in mu\n",
    "    return norm.pdf(x, mu, sigma)\n",
    "\n",
    "nll = UnbinnedNLL((x, y), model)\n",
    "\n",
    "m = Minuit(nll, 0.0, 0.0, 2.0)\n",
    "m.limits[\"sigma\"] = (0, None)\n",
    "m.migrad()"
   ]
  },
  {
   "cell_type": "code",
   "execution_count": 5,
   "id": "aquatic-belgium",
   "metadata": {},
   "outputs": [
    {
     "data": {
      "image/png": "[encoded data removed]",
      "text/plain": [
       "<Figure size 432x288 with 1 Axes>"
      ]
     },
     "metadata": {
      "needs_background": "light"
     },
     "output_type": "display_data"
    }
   ],
   "source": [
    "# construct model representation for comparison with data histogram\n",
    "a, b, sigma = m.values\n",
    "\n",
    "# get expected content per bin from cdf, sum over the individual cdfs\n",
    "v = np.diff(np.sum(norm.cdf(ax_x.edges[:,np.newaxis],\n",
    "                            mu(y, a, b), sigma), axis=1))\n",
    "\n",
    "plt.stairs(v, ax_x.edges, label=\"model\", zorder=5, lw=2)\n",
    "plt.errorbar(ax_x.centers, h1.values(), h1.variances() ** 0.5,\n",
    "             fmt=\"ok\", label=\"data\")\n",
    "plt.xlabel(\"x\")\n",
    "plt.ylabel(\"events\")\n",
    "plt.legend(frameon=False);"
   ]
  },
  {
   "cell_type": "markdown",
   "id": "integrated-listening",
   "metadata": {},
   "source": [
    "## Fit without conditional variable\n",
    "\n",
    "We can also ignore the dependence of $x$ and $y$ and just fit the total $x$ distribution with a model built from the distribution of $y$ values. This also works in this case, but information is lost and therefore the parameter uncertainties become larger than in the previous case.\n",
    "\n",
    "On top of that, the calculation is much slower, because building the pdf is more expensive. We parallelise the computation with numba."
   ]
  },
  {
   "cell_type": "code",
   "execution_count": 6,
   "id": "protecting-monte",
   "metadata": {},
   "outputs": [
    {
     "data": {
      "text/html": [
       "<table>\n",
       "    <tr>\n",
       "        <th colspan=\"5\" style=\"text-align:center\" title=\"Minimizer\"> Migrad </th>\n",
       "    </tr>\n",
       "    <tr>\n",
       "        <td colspan=\"2\" style=\"text-align:left\" title=\"Minimum value of function\"> FCN = -8.774e+04 </td>\n",
       "        <td colspan=\"3\" style=\"text-align:center\" title=\"No. of function evaluations in last call and total number\"> Nfcn = 95 </td>\n",
       "    </tr>\n",
       "    <tr>\n",
       "        <td colspan=\"2\" style=\"text-align:left\" title=\"Estimated distance to minimum and goal\"> EDM = 1.33e-06 (Goal: 0.0002) </td>\n",
       "        <td colspan=\"3\" style=\"text-align:center\" title=\"No. of gradient evaluations in last call and total number\">  </td>\n",
       "    </tr>\n",
       "    <tr>\n",
       "        <td colspan=\"2\" style=\"text-align:center;background-color:#92CCA6;color:black\"> Valid Minimum </td>\n",
       "        <td colspan=\"3\" style=\"text-align:center;background-color:#92CCA6;color:black\"> No Parameters at limit </td>\n",
       "    </tr>\n",
       "    <tr>\n",
       "        <td colspan=\"2\" style=\"text-align:center;background-color:#92CCA6;color:black\"> Below EDM threshold (goal x 10) </td>\n",
       "        <td colspan=\"3\" style=\"text-align:center;background-color:#92CCA6;color:black\"> Below call limit </td>\n",
       "    </tr>\n",
       "    <tr>\n",
       "        <td style=\"text-align:center;background-color:#92CCA6;color:black\"> Covariance </td>\n",
       "        <td style=\"text-align:center;background-color:#92CCA6;color:black\"> Hesse ok </td>\n",
       "        <td style=\"text-align:center;background-color:#92CCA6;color:black\" title=\"Is covariance matrix accurate?\"> Accurate </td>\n",
       "        <td style=\"text-align:center;background-color:#92CCA6;color:black\" title=\"Is covariance matrix positive definite?\"> Pos. def. </td>\n",
       "        <td style=\"text-align:center;background-color:#92CCA6;color:black\" title=\"Was positive definiteness enforced by Minuit?\"> Not forced </td>\n",
       "    </tr>\n",
       "</table><table>\n",
       "    <tr>\n",
       "        <td></td>\n",
       "        <th title=\"Variable name\"> Name </th>\n",
       "        <th title=\"Value of parameter\"> Value </th>\n",
       "        <th title=\"Hesse error\"> Hesse Error </th>\n",
       "        <th title=\"Minos lower error\"> Minos Error- </th>\n",
       "        <th title=\"Minos upper error\"> Minos Error+ </th>\n",
       "        <th title=\"Lower limit of the parameter\"> Limit- </th>\n",
       "        <th title=\"Upper limit of the parameter\"> Limit+ </th>\n",
       "        <th title=\"Is the parameter fixed in the fit\"> Fixed </th>\n",
       "    </tr>\n",
       "    <tr>\n",
       "        <th> 0 </th>\n",
       "        <td> a </td>\n",
       "        <td> 0.002 </td>\n",
       "        <td> 0.029 </td>\n",
       "        <td>  </td>\n",
       "        <td>  </td>\n",
       "        <td>  </td>\n",
       "        <td>  </td>\n",
       "        <td>  </td>\n",
       "    </tr>\n",
       "    <tr>\n",
       "        <th> 1 </th>\n",
       "        <td> b </td>\n",
       "        <td> 0.500 </td>\n",
       "        <td> 0.005 </td>\n",
       "        <td>  </td>\n",
       "        <td>  </td>\n",
       "        <td>  </td>\n",
       "        <td>  </td>\n",
       "        <td>  </td>\n",
       "    </tr>\n",
       "    <tr>\n",
       "        <th> 2 </th>\n",
       "        <td> sigma </td>\n",
       "        <td> 0.98 </td>\n",
       "        <td> 0.04 </td>\n",
       "        <td>  </td>\n",
       "        <td>  </td>\n",
       "        <td> 0 </td>\n",
       "        <td>  </td>\n",
       "        <td>  </td>\n",
       "    </tr>\n",
       "</table><table>\n",
       "    <tr>\n",
       "        <td></td>\n",
       "        <th> a </th>\n",
       "        <th> b </th>\n",
       "        <th> sigma </th>\n",
       "    </tr>\n",
       "    <tr>\n",
       "        <th> a </th>\n",
       "        <td> 0.000839 </td>\n",
       "        <td style=\"background-color:rgb(250,245,245);color:black\"> 4.35e-06 <strong>(0.030)</strong> </td>\n",
       "        <td style=\"background-color:rgb(246,246,250);color:black\"> -3.16e-05 <strong>(-0.027)</strong> </td>\n",
       "    </tr>\n",
       "    <tr>\n",
       "        <th> b </th>\n",
       "        <td style=\"background-color:rgb(250,245,245);color:black\"> 4.35e-06 <strong>(0.030)</strong> </td>\n",
       "        <td> 2.43e-05 </td>\n",
       "        <td style=\"background-color:rgb(157,157,250);color:black\"> -0.000141 <strong>(-0.718)</strong> </td>\n",
       "    </tr>\n",
       "    <tr>\n",
       "        <th> sigma </th>\n",
       "        <td style=\"background-color:rgb(246,246,250);color:black\"> -3.16e-05 <strong>(-0.027)</strong> </td>\n",
       "        <td style=\"background-color:rgb(157,157,250);color:black\"> -0.000141 <strong>(-0.718)</strong> </td>\n",
       "        <td> 0.0016 </td>\n",
       "    </tr>\n",
       "</table>"
      ],
      "text/plain": [
       "┌─────────────────────────────────────────────────────────────────────────┐\n",
       "│                                Migrad                                   │\n",
       "├──────────────────────────────────┬──────────────────────────────────────┤\n",
       "│ FCN = -8.774e+04                 │              Nfcn = 95               │\n",
       "│ EDM = 1.33e-06 (Goal: 0.0002)    │                                      │\n",
       "├──────────────────────────────────┼──────────────────────────────────────┤\n",
       "│          Valid Minimum           │        No Parameters at limit        │\n",
       "├──────────────────────────────────┼──────────────────────────────────────┤\n",
       "│ Below EDM threshold (goal x 10)  │           Below call limit           │\n",
       "├───────────────┬──────────────────┼───────────┬─────────────┬────────────┤\n",
       "│  Covariance   │     Hesse ok     │ Accurate  │  Pos. def.  │ Not forced │\n",
       "└───────────────┴──────────────────┴───────────┴─────────────┴────────────┘\n",
       "┌───┬───────┬───────────┬───────────┬────────────┬────────────┬─────────┬─────────┬───────┐\n",
       "│   │ Name  │   Value   │ Hesse Err │ Minos Err- │ Minos Err+ │ Limit-  │ Limit+  │ Fixed │\n",
       "├───┼───────┼───────────┼───────────┼────────────┼────────────┼─────────┼─────────┼───────┤\n",
       "│ 0 │ a     │   0.002   │   0.029   │            │            │         │         │       │\n",
       "│ 1 │ b     │   0.500   │   0.005   │            │            │         │         │       │\n",
       "│ 2 │ sigma │   0.98    │   0.04    │            │            │    0    │         │       │\n",
       "└───┴───────┴───────────┴───────────┴────────────┴────────────┴─────────┴─────────┴───────┘\n",
       "┌───────┬───────────────────────────────┐\n",
       "│       │         a         b     sigma │\n",
       "├───────┼───────────────────────────────┤\n",
       "│     a │  0.000839  4.35e-06 -3.16e-05 │\n",
       "│     b │  4.35e-06  2.43e-05 -0.000141 │\n",
       "│ sigma │ -3.16e-05 -0.000141    0.0016 │\n",
       "└───────┴───────────────────────────────┘"
      ]
     },
     "execution_count": 6,
     "metadata": {},
     "output_type": "execute_result"
    }
   ],
   "source": [
    "nb.config.THREADING_LAYER = 'workqueue'\n",
    "\n",
    "\n",
    "@nb.njit(parallel=True, fastmath=True)\n",
    "def model(x, a, b, sigma):\n",
    "    mu = a + b * y\n",
    "    total = np.zeros_like(x)\n",
    "    for i in nb.prange(len(mu)):\n",
    "        total += norm2.pdf(x, mu[i], sigma)\n",
    "    return total\n",
    "\n",
    "\n",
    "nll = UnbinnedNLL(x, model)\n",
    "m2 = Minuit(nll, 0.0, 0.0, 2.0)\n",
    "m2.limits[\"sigma\"] = (0, None)\n",
    "m2.migrad()"
   ]
  },
  {
   "cell_type": "code",
   "execution_count": 7,
   "id": "julian-border",
   "metadata": {
    "scrolled": true
   },
   "outputs": [
    {
     "data": {
      "image/png": "[encoded data removed]",
      "text/plain": [
       "<Figure size 576x144 with 3 Axes>"
      ]
     },
     "metadata": {
      "needs_background": "light"
     },
     "output_type": "display_data"
    }
   ],
   "source": [
    "fig, ax = plt.subplots(1, 3, figsize=(8, 2), constrained_layout=True)\n",
    "for par, axi in zip(m.parameters, ax):\n",
    "    axi.set_title(par)\n",
    "    t = truth[par]\n",
    "    axi.axhline(t, ls=\"--\", color=\"0.5\")\n",
    "    axi.errorbar([\"with\\n conditional\"], m.values[par],\n",
    "                 m.errors[par], fmt=\"ok\")\n",
    "    axi.errorbar([\"without\\n conditional\"], m2.values[par],\n",
    "                 m2.errors[par], fmt=\"or\")\n",
    "    axi.set_xlim(-0.5, 1.5)\n",
    "    dt = 2 * m2.errors[par]\n",
    "    axi.set_ylim(t - dt, t + dt)"
   ]
  }
 ],
 "metadata": {
  "kernelspec": {
   "display_name": "Python 3 (ipykernel)",
   "language": "python",
   "name": "python3"
  },
  "language_info": {
   "codemirror_mode": {
    "name": "ipython",
    "version": 3
   },
   "file_extension": ".py",
   "mimetype": "text/x-python",
   "name": "python",
   "nbconvert_exporter": "python",
   "pygments_lexer": "ipython3",
   "version": "3.8.12"
  }
 },
 "nbformat": 4,
 "nbformat_minor": 5
}
