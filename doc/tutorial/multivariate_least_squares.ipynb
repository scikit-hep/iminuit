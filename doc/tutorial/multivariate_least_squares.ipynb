{
 "cells": [
  {
   "cell_type": "markdown",
   "metadata": {},
   "source": [
    "# Least-squares fit with multivariate model\n",
    "\n",
    "This is a tutorial on how to fit a multivariate function z = f(x, y) to data with the builtin LeastSquares cost function.\n",
    "\n",
    "We fit a scaled multivariate normal distribution."
   ]
  },
  {
   "cell_type": "code",
   "execution_count": null,
   "metadata": {},
   "outputs": [],
   "source": [
    "from iminuit import Minuit\n",
    "import numpy as np\n",
    "from scipy.stats import multivariate_normal as norm\n",
    "from iminuit.cost import LeastSquares\n",
    "from matplotlib import pyplot as plt\n",
    "\n",
    "# docs of LeastSquares class explain how to set up model function\n",
    "def model(x_y, n, mux, muy, sigmax, sigmay, rho):\n",
    "    C = np.empty((2, 2))\n",
    "    C[0,0] = sigmax ** 2\n",
    "    C[1,1] = sigmay ** 2\n",
    "    C[0,1] = C[1, 0] = rho * sigmax * sigmay\n",
    "    return n * norm.pdf(np.transpose(x_y), (mux, muy), C)\n",
    "\n",
    "# generate a regular grid in x and y\n",
    "x = np.linspace(-1, 1, 10)\n",
    "y = np.linspace(-1, 1, 10)\n",
    "X, Y = np.meshgrid(x, y)\n",
    "x = X.flatten()\n",
    "y = Y.flatten()\n",
    "\n",
    "# model truth\n",
    "Z = model((x, y), 10, 0, 0, 1, 0.5, 0.1)\n",
    "\n",
    "# add some noise\n",
    "rng = np.random.default_rng(1)\n",
    "Zerr = 0.1 * Z\n",
    "Z += rng.normal(0, Zerr)\n",
    "\n",
    "plt.scatter(x, y, c=Z)"
   ]
  },
  {
   "cell_type": "code",
   "execution_count": null,
   "metadata": {},
   "outputs": [],
   "source": [
    "cost = LeastSquares((x, y), Z, Zerr, model)\n",
    "\n",
    "m = Minuit(cost, 1, 0, 0, 1, 1, 0.0)\n",
    "m.limits[\"n\", \"sigmax\", \"sigmay\"] = (0, None)\n",
    "m.limits[\"rho\"] = (-1, 1)\n",
    "m.migrad()"
   ]
  },
  {
   "cell_type": "markdown",
   "metadata": {},
   "source": [
    "Multivarate fits are difficult to check by eye. Here we use color to indicate the function value.\n",
    "\n",
    "To guarantee that plot of the function and the plot of the data use the same color scale, we use the same normalising function for pyplot.pcolormesh and pyplot.scatter."
   ]
  },
  {
   "cell_type": "code",
   "execution_count": null,
   "metadata": {},
   "outputs": [],
   "source": [
    "xm = np.linspace(-1, 1, 100)\n",
    "ym = np.linspace(-1, 1, 100)\n",
    "Xm, Ym = np.meshgrid(xm, ym)\n",
    "xm = Xm.flatten()\n",
    "ym = Ym.flatten()\n",
    "\n",
    "qm = plt.pcolormesh(Xm, Ym, model((xm, ym), *m.values).reshape(Xm.shape))\n",
    "plt.scatter(x, y, c=Z, edgecolors=\"w\", norm=qm.norm)\n",
    "plt.colorbar()\n",
    "plt.clim(0, None)"
   ]
  }
 ],
 "metadata": {
  "interpreter": {
   "hash": "bdbf20ff2e92a3ae3002db8b02bd1dd1b287e934c884beb29a73dced9dbd0fa3"
  },
  "kernelspec": {
   "display_name": "iminuit",
   "language": "python",
   "name": "iminuit"
  },
  "language_info": {
   "codemirror_mode": {
    "name": "ipython",
    "version": 3
   },
   "file_extension": ".py",
   "mimetype": "text/x-python",
   "name": "python",
   "nbconvert_exporter": "python",
   "pygments_lexer": "ipython3",
   "version": "3.8.12"
  },
  "orig_nbformat": 4
 },
 "nbformat": 4,
 "nbformat_minor": 2
}
